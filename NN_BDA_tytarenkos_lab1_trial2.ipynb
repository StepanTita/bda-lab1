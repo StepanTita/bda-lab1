{
  "nbformat": 4,
  "nbformat_minor": 0,
  "metadata": {
    "colab": {
      "name": "BDA-lab1-trial2.ipynb",
      "provenance": [],
      "collapsed_sections": []
    },
    "kernelspec": {
      "name": "python3",
      "display_name": "Python 3"
    },
    "language_info": {
      "name": "python"
    },
    "accelerator": "TPU",
    "gpuClass": "standard"
  },
  "cells": [
    {
      "cell_type": "code",
      "execution_count": 1,
      "metadata": {
        "id": "2JSwyo0CH9x9"
      },
      "outputs": [],
      "source": [
        "import matplotlib.pyplot as plt\n",
        "import numpy as np\n",
        "import pandas as pd\n",
        "import seaborn as sns\n",
        "\n",
        "import tensorflow as tf\n",
        "\n",
        "from google.colab import files\n",
        "\n",
        "import os\n",
        "import unicodedata\n",
        "import string\n",
        "import random\n",
        "import binascii"
      ]
    },
    {
      "cell_type": "code",
      "source": [
        "def upload_file():\n",
        "  uploaded = files.upload()\n",
        "\n",
        "  for fn in uploaded.keys():\n",
        "    print('User uploaded file \"{name}\" with length {length} bytes'.format(\n",
        "        name=fn, length=len(uploaded[fn])))"
      ],
      "metadata": {
        "id": "FIlSwJnsXlw5"
      },
      "execution_count": 2,
      "outputs": []
    },
    {
      "cell_type": "code",
      "source": [
        "upload_file()\n",
        "  \n",
        "# Then move kaggle.json into the folder where the API expects to find it.\n",
        "!mkdir -p ~/.kaggle/ && mv kaggle.json ~/.kaggle/ && chmod 600 ~/.kaggle/kaggle.json"
      ],
      "metadata": {
        "colab": {
          "resources": {
            "http://localhost:8080/nbextensions/google.colab/files.js": {
              "data": "Ly8gQ29weXJpZ2h0IDIwMTcgR29vZ2xlIExMQwovLwovLyBMaWNlbnNlZCB1bmRlciB0aGUgQXBhY2hlIExpY2Vuc2UsIFZlcnNpb24gMi4wICh0aGUgIkxpY2Vuc2UiKTsKLy8geW91IG1heSBub3QgdXNlIHRoaXMgZmlsZSBleGNlcHQgaW4gY29tcGxpYW5jZSB3aXRoIHRoZSBMaWNlbnNlLgovLyBZb3UgbWF5IG9idGFpbiBhIGNvcHkgb2YgdGhlIExpY2Vuc2UgYXQKLy8KLy8gICAgICBodHRwOi8vd3d3LmFwYWNoZS5vcmcvbGljZW5zZXMvTElDRU5TRS0yLjAKLy8KLy8gVW5sZXNzIHJlcXVpcmVkIGJ5IGFwcGxpY2FibGUgbGF3IG9yIGFncmVlZCB0byBpbiB3cml0aW5nLCBzb2Z0d2FyZQovLyBkaXN0cmlidXRlZCB1bmRlciB0aGUgTGljZW5zZSBpcyBkaXN0cmlidXRlZCBvbiBhbiAiQVMgSVMiIEJBU0lTLAovLyBXSVRIT1VUIFdBUlJBTlRJRVMgT1IgQ09ORElUSU9OUyBPRiBBTlkgS0lORCwgZWl0aGVyIGV4cHJlc3Mgb3IgaW1wbGllZC4KLy8gU2VlIHRoZSBMaWNlbnNlIGZvciB0aGUgc3BlY2lmaWMgbGFuZ3VhZ2UgZ292ZXJuaW5nIHBlcm1pc3Npb25zIGFuZAovLyBsaW1pdGF0aW9ucyB1bmRlciB0aGUgTGljZW5zZS4KCi8qKgogKiBAZmlsZW92ZXJ2aWV3IEhlbHBlcnMgZm9yIGdvb2dsZS5jb2xhYiBQeXRob24gbW9kdWxlLgogKi8KKGZ1bmN0aW9uKHNjb3BlKSB7CmZ1bmN0aW9uIHNwYW4odGV4dCwgc3R5bGVBdHRyaWJ1dGVzID0ge30pIHsKICBjb25zdCBlbGVtZW50ID0gZG9jdW1lbnQuY3JlYXRlRWxlbWVudCgnc3BhbicpOwogIGVsZW1lbnQudGV4dENvbnRlbnQgPSB0ZXh0OwogIGZvciAoY29uc3Qga2V5IG9mIE9iamVjdC5rZXlzKHN0eWxlQXR0cmlidXRlcykpIHsKICAgIGVsZW1lbnQuc3R5bGVba2V5XSA9IHN0eWxlQXR0cmlidXRlc1trZXldOwogIH0KICByZXR1cm4gZWxlbWVudDsKfQoKLy8gTWF4IG51bWJlciBvZiBieXRlcyB3aGljaCB3aWxsIGJlIHVwbG9hZGVkIGF0IGEgdGltZS4KY29uc3QgTUFYX1BBWUxPQURfU0laRSA9IDEwMCAqIDEwMjQ7CgpmdW5jdGlvbiBfdXBsb2FkRmlsZXMoaW5wdXRJZCwgb3V0cHV0SWQpIHsKICBjb25zdCBzdGVwcyA9IHVwbG9hZEZpbGVzU3RlcChpbnB1dElkLCBvdXRwdXRJZCk7CiAgY29uc3Qgb3V0cHV0RWxlbWVudCA9IGRvY3VtZW50LmdldEVsZW1lbnRCeUlkKG91dHB1dElkKTsKICAvLyBDYWNoZSBzdGVwcyBvbiB0aGUgb3V0cHV0RWxlbWVudCB0byBtYWtlIGl0IGF2YWlsYWJsZSBmb3IgdGhlIG5leHQgY2FsbAogIC8vIHRvIHVwbG9hZEZpbGVzQ29udGludWUgZnJvbSBQeXRob24uCiAgb3V0cHV0RWxlbWVudC5zdGVwcyA9IHN0ZXBzOwoKICByZXR1cm4gX3VwbG9hZEZpbGVzQ29udGludWUob3V0cHV0SWQpOwp9CgovLyBUaGlzIGlzIHJvdWdobHkgYW4gYXN5bmMgZ2VuZXJhdG9yIChub3Qgc3VwcG9ydGVkIGluIHRoZSBicm93c2VyIHlldCksCi8vIHdoZXJlIHRoZXJlIGFyZSBtdWx0aXBsZSBhc3luY2hyb25vdXMgc3RlcHMgYW5kIHRoZSBQeXRob24gc2lkZSBpcyBnb2luZwovLyB0byBwb2xsIGZvciBjb21wbGV0aW9uIG9mIGVhY2ggc3RlcC4KLy8gVGhpcyB1c2VzIGEgUHJvbWlzZSB0byBibG9jayB0aGUgcHl0aG9uIHNpZGUgb24gY29tcGxldGlvbiBvZiBlYWNoIHN0ZXAsCi8vIHRoZW4gcGFzc2VzIHRoZSByZXN1bHQgb2YgdGhlIHByZXZpb3VzIHN0ZXAgYXMgdGhlIGlucHV0IHRvIHRoZSBuZXh0IHN0ZXAuCmZ1bmN0aW9uIF91cGxvYWRGaWxlc0NvbnRpbnVlKG91dHB1dElkKSB7CiAgY29uc3Qgb3V0cHV0RWxlbWVudCA9IGRvY3VtZW50LmdldEVsZW1lbnRCeUlkKG91dHB1dElkKTsKICBjb25zdCBzdGVwcyA9IG91dHB1dEVsZW1lbnQuc3RlcHM7CgogIGNvbnN0IG5leHQgPSBzdGVwcy5uZXh0KG91dHB1dEVsZW1lbnQubGFzdFByb21pc2VWYWx1ZSk7CiAgcmV0dXJuIFByb21pc2UucmVzb2x2ZShuZXh0LnZhbHVlLnByb21pc2UpLnRoZW4oKHZhbHVlKSA9PiB7CiAgICAvLyBDYWNoZSB0aGUgbGFzdCBwcm9taXNlIHZhbHVlIHRvIG1ha2UgaXQgYXZhaWxhYmxlIHRvIHRoZSBuZXh0CiAgICAvLyBzdGVwIG9mIHRoZSBnZW5lcmF0b3IuCiAgICBvdXRwdXRFbGVtZW50Lmxhc3RQcm9taXNlVmFsdWUgPSB2YWx1ZTsKICAgIHJldHVybiBuZXh0LnZhbHVlLnJlc3BvbnNlOwogIH0pOwp9CgovKioKICogR2VuZXJhdG9yIGZ1bmN0aW9uIHdoaWNoIGlzIGNhbGxlZCBiZXR3ZWVuIGVhY2ggYXN5bmMgc3RlcCBvZiB0aGUgdXBsb2FkCiAqIHByb2Nlc3MuCiAqIEBwYXJhbSB7c3RyaW5nfSBpbnB1dElkIEVsZW1lbnQgSUQgb2YgdGhlIGlucHV0IGZpbGUgcGlja2VyIGVsZW1lbnQuCiAqIEBwYXJhbSB7c3RyaW5nfSBvdXRwdXRJZCBFbGVtZW50IElEIG9mIHRoZSBvdXRwdXQgZGlzcGxheS4KICogQHJldHVybiB7IUl0ZXJhYmxlPCFPYmplY3Q+fSBJdGVyYWJsZSBvZiBuZXh0IHN0ZXBzLgogKi8KZnVuY3Rpb24qIHVwbG9hZEZpbGVzU3RlcChpbnB1dElkLCBvdXRwdXRJZCkgewogIGNvbnN0IGlucHV0RWxlbWVudCA9IGRvY3VtZW50LmdldEVsZW1lbnRCeUlkKGlucHV0SWQpOwogIGlucHV0RWxlbWVudC5kaXNhYmxlZCA9IGZhbHNlOwoKICBjb25zdCBvdXRwdXRFbGVtZW50ID0gZG9jdW1lbnQuZ2V0RWxlbWVudEJ5SWQob3V0cHV0SWQpOwogIG91dHB1dEVsZW1lbnQuaW5uZXJIVE1MID0gJyc7CgogIGNvbnN0IHBpY2tlZFByb21pc2UgPSBuZXcgUHJvbWlzZSgocmVzb2x2ZSkgPT4gewogICAgaW5wdXRFbGVtZW50LmFkZEV2ZW50TGlzdGVuZXIoJ2NoYW5nZScsIChlKSA9PiB7CiAgICAgIHJlc29sdmUoZS50YXJnZXQuZmlsZXMpOwogICAgfSk7CiAgfSk7CgogIGNvbnN0IGNhbmNlbCA9IGRvY3VtZW50LmNyZWF0ZUVsZW1lbnQoJ2J1dHRvbicpOwogIGlucHV0RWxlbWVudC5wYXJlbnRFbGVtZW50LmFwcGVuZENoaWxkKGNhbmNlbCk7CiAgY2FuY2VsLnRleHRDb250ZW50ID0gJ0NhbmNlbCB1cGxvYWQnOwogIGNvbnN0IGNhbmNlbFByb21pc2UgPSBuZXcgUHJvbWlzZSgocmVzb2x2ZSkgPT4gewogICAgY2FuY2VsLm9uY2xpY2sgPSAoKSA9PiB7CiAgICAgIHJlc29sdmUobnVsbCk7CiAgICB9OwogIH0pOwoKICAvLyBXYWl0IGZvciB0aGUgdXNlciB0byBwaWNrIHRoZSBmaWxlcy4KICBjb25zdCBmaWxlcyA9IHlpZWxkIHsKICAgIHByb21pc2U6IFByb21pc2UucmFjZShbcGlja2VkUHJvbWlzZSwgY2FuY2VsUHJvbWlzZV0pLAogICAgcmVzcG9uc2U6IHsKICAgICAgYWN0aW9uOiAnc3RhcnRpbmcnLAogICAgfQogIH07CgogIGNhbmNlbC5yZW1vdmUoKTsKCiAgLy8gRGlzYWJsZSB0aGUgaW5wdXQgZWxlbWVudCBzaW5jZSBmdXJ0aGVyIHBpY2tzIGFyZSBub3QgYWxsb3dlZC4KICBpbnB1dEVsZW1lbnQuZGlzYWJsZWQgPSB0cnVlOwoKICBpZiAoIWZpbGVzKSB7CiAgICByZXR1cm4gewogICAgICByZXNwb25zZTogewogICAgICAgIGFjdGlvbjogJ2NvbXBsZXRlJywKICAgICAgfQogICAgfTsKICB9CgogIGZvciAoY29uc3QgZmlsZSBvZiBmaWxlcykgewogICAgY29uc3QgbGkgPSBkb2N1bWVudC5jcmVhdGVFbGVtZW50KCdsaScpOwogICAgbGkuYXBwZW5kKHNwYW4oZmlsZS5uYW1lLCB7Zm9udFdlaWdodDogJ2JvbGQnfSkpOwogICAgbGkuYXBwZW5kKHNwYW4oCiAgICAgICAgYCgke2ZpbGUudHlwZSB8fCAnbi9hJ30pIC0gJHtmaWxlLnNpemV9IGJ5dGVzLCBgICsKICAgICAgICBgbGFzdCBtb2RpZmllZDogJHsKICAgICAgICAgICAgZmlsZS5sYXN0TW9kaWZpZWREYXRlID8gZmlsZS5sYXN0TW9kaWZpZWREYXRlLnRvTG9jYWxlRGF0ZVN0cmluZygpIDoKICAgICAgICAgICAgICAgICAgICAgICAgICAgICAgICAgICAgJ24vYSd9IC0gYCkpOwogICAgY29uc3QgcGVyY2VudCA9IHNwYW4oJzAlIGRvbmUnKTsKICAgIGxpLmFwcGVuZENoaWxkKHBlcmNlbnQpOwoKICAgIG91dHB1dEVsZW1lbnQuYXBwZW5kQ2hpbGQobGkpOwoKICAgIGNvbnN0IGZpbGVEYXRhUHJvbWlzZSA9IG5ldyBQcm9taXNlKChyZXNvbHZlKSA9PiB7CiAgICAgIGNvbnN0IHJlYWRlciA9IG5ldyBGaWxlUmVhZGVyKCk7CiAgICAgIHJlYWRlci5vbmxvYWQgPSAoZSkgPT4gewogICAgICAgIHJlc29sdmUoZS50YXJnZXQucmVzdWx0KTsKICAgICAgfTsKICAgICAgcmVhZGVyLnJlYWRBc0FycmF5QnVmZmVyKGZpbGUpOwogICAgfSk7CiAgICAvLyBXYWl0IGZvciB0aGUgZGF0YSB0byBiZSByZWFkeS4KICAgIGxldCBmaWxlRGF0YSA9IHlpZWxkIHsKICAgICAgcHJvbWlzZTogZmlsZURhdGFQcm9taXNlLAogICAgICByZXNwb25zZTogewogICAgICAgIGFjdGlvbjogJ2NvbnRpbnVlJywKICAgICAgfQogICAgfTsKCiAgICAvLyBVc2UgYSBjaHVua2VkIHNlbmRpbmcgdG8gYXZvaWQgbWVzc2FnZSBzaXplIGxpbWl0cy4gU2VlIGIvNjIxMTU2NjAuCiAgICBsZXQgcG9zaXRpb24gPSAwOwogICAgZG8gewogICAgICBjb25zdCBsZW5ndGggPSBNYXRoLm1pbihmaWxlRGF0YS5ieXRlTGVuZ3RoIC0gcG9zaXRpb24sIE1BWF9QQVlMT0FEX1NJWkUpOwogICAgICBjb25zdCBjaHVuayA9IG5ldyBVaW50OEFycmF5KGZpbGVEYXRhLCBwb3NpdGlvbiwgbGVuZ3RoKTsKICAgICAgcG9zaXRpb24gKz0gbGVuZ3RoOwoKICAgICAgY29uc3QgYmFzZTY0ID0gYnRvYShTdHJpbmcuZnJvbUNoYXJDb2RlLmFwcGx5KG51bGwsIGNodW5rKSk7CiAgICAgIHlpZWxkIHsKICAgICAgICByZXNwb25zZTogewogICAgICAgICAgYWN0aW9uOiAnYXBwZW5kJywKICAgICAgICAgIGZpbGU6IGZpbGUubmFtZSwKICAgICAgICAgIGRhdGE6IGJhc2U2NCwKICAgICAgICB9LAogICAgICB9OwoKICAgICAgbGV0IHBlcmNlbnREb25lID0gZmlsZURhdGEuYnl0ZUxlbmd0aCA9PT0gMCA/CiAgICAgICAgICAxMDAgOgogICAgICAgICAgTWF0aC5yb3VuZCgocG9zaXRpb24gLyBmaWxlRGF0YS5ieXRlTGVuZ3RoKSAqIDEwMCk7CiAgICAgIHBlcmNlbnQudGV4dENvbnRlbnQgPSBgJHtwZXJjZW50RG9uZX0lIGRvbmVgOwoKICAgIH0gd2hpbGUgKHBvc2l0aW9uIDwgZmlsZURhdGEuYnl0ZUxlbmd0aCk7CiAgfQoKICAvLyBBbGwgZG9uZS4KICB5aWVsZCB7CiAgICByZXNwb25zZTogewogICAgICBhY3Rpb246ICdjb21wbGV0ZScsCiAgICB9CiAgfTsKfQoKc2NvcGUuZ29vZ2xlID0gc2NvcGUuZ29vZ2xlIHx8IHt9OwpzY29wZS5nb29nbGUuY29sYWIgPSBzY29wZS5nb29nbGUuY29sYWIgfHwge307CnNjb3BlLmdvb2dsZS5jb2xhYi5fZmlsZXMgPSB7CiAgX3VwbG9hZEZpbGVzLAogIF91cGxvYWRGaWxlc0NvbnRpbnVlLAp9Owp9KShzZWxmKTsK",
              "ok": true,
              "headers": [
                [
                  "content-type",
                  "application/javascript"
                ]
              ],
              "status": 200,
              "status_text": ""
            }
          },
          "base_uri": "https://localhost:8080/",
          "height": 90
        },
        "id": "Ub77yNS1Ki4i",
        "outputId": "9c4d8052-857f-4e40-f18d-ad7ef61dd6a1"
      },
      "execution_count": 4,
      "outputs": [
        {
          "output_type": "display_data",
          "data": {
            "text/plain": [
              "<IPython.core.display.HTML object>"
            ],
            "text/html": [
              "\n",
              "     <input type=\"file\" id=\"files-6181d422-d686-451f-9616-87c44a8ec9cc\" name=\"files[]\" multiple disabled\n",
              "        style=\"border:none\" />\n",
              "     <output id=\"result-6181d422-d686-451f-9616-87c44a8ec9cc\">\n",
              "      Upload widget is only available when the cell has been executed in the\n",
              "      current browser session. Please rerun this cell to enable.\n",
              "      </output>\n",
              "      <script src=\"/nbextensions/google.colab/files.js\"></script> "
            ]
          },
          "metadata": {}
        },
        {
          "output_type": "stream",
          "name": "stdout",
          "text": [
            "Saving kaggle.json to kaggle.json\n",
            "User uploaded file \"kaggle.json\" with length 66 bytes\n"
          ]
        }
      ]
    },
    {
      "cell_type": "code",
      "source": [
        "!kaggle datasets download -d sinclairg/surname-language-of-origin"
      ],
      "metadata": {
        "colab": {
          "base_uri": "https://localhost:8080/"
        },
        "id": "BsGFWEh7KL81",
        "outputId": "6314c936-3966-451a-e810-dc6d06279952"
      },
      "execution_count": 5,
      "outputs": [
        {
          "output_type": "stream",
          "name": "stdout",
          "text": [
            "Downloading surname-language-of-origin.zip to /content\n",
            "\r  0% 0.00/2.79M [00:00<?, ?B/s]\n",
            "\r100% 2.79M/2.79M [00:00<00:00, 198MB/s]\n"
          ]
        }
      ]
    },
    {
      "cell_type": "code",
      "source": [
        "!ls"
      ],
      "metadata": {
        "colab": {
          "base_uri": "https://localhost:8080/"
        },
        "id": "HMt1Uz1kKZPl",
        "outputId": "6c403538-abc8-45dc-baaa-60fca93c4bac"
      },
      "execution_count": 6,
      "outputs": [
        {
          "output_type": "stream",
          "name": "stdout",
          "text": [
            "sample_data  surname-language-of-origin.zip\n"
          ]
        }
      ]
    },
    {
      "cell_type": "code",
      "source": [
        "!unzip ./surname-language-of-origin.zip"
      ],
      "metadata": {
        "colab": {
          "base_uri": "https://localhost:8080/"
        },
        "id": "OpHmg6wVKxmH",
        "outputId": "47c57bd9-1b18-405d-eb5d-5b6f62bf6001"
      },
      "execution_count": 7,
      "outputs": [
        {
          "output_type": "stream",
          "name": "stdout",
          "text": [
            "Archive:  ./surname-language-of-origin.zip\n",
            "  inflating: data/eng-fra.txt        \n",
            "  inflating: data/names/Arabic.txt   \n",
            "  inflating: data/names/Chinese.txt  \n",
            "  inflating: data/names/Czech.txt    \n",
            "  inflating: data/names/Dutch.txt    \n",
            "  inflating: data/names/English.txt  \n",
            "  inflating: data/names/French.txt   \n",
            "  inflating: data/names/German.txt   \n",
            "  inflating: data/names/Greek.txt    \n",
            "  inflating: data/names/Irish.txt    \n",
            "  inflating: data/names/Italian.txt  \n",
            "  inflating: data/names/Japanese.txt  \n",
            "  inflating: data/names/Korean.txt   \n",
            "  inflating: data/names/Polish.txt   \n",
            "  inflating: data/names/Portuguese.txt  \n",
            "  inflating: data/names/Russian.txt  \n",
            "  inflating: data/names/Scottish.txt  \n",
            "  inflating: data/names/Spanish.txt  \n",
            "  inflating: data/names/Vietnamese.txt  \n"
          ]
        }
      ]
    },
    {
      "cell_type": "code",
      "source": [
        "!ls && ls ./data/names"
      ],
      "metadata": {
        "colab": {
          "base_uri": "https://localhost:8080/"
        },
        "id": "UJKa4XkrK1JX",
        "outputId": "6ff2ef13-588a-4bfb-d60f-ad628f847ad2"
      },
      "execution_count": 8,
      "outputs": [
        {
          "output_type": "stream",
          "name": "stdout",
          "text": [
            "data  sample_data  surname-language-of-origin.zip\n",
            "Arabic.txt   English.txt  Irish.txt\tPolish.txt\tSpanish.txt\n",
            "Chinese.txt  French.txt   Italian.txt\tPortuguese.txt\tVietnamese.txt\n",
            "Czech.txt    German.txt   Japanese.txt\tRussian.txt\n",
            "Dutch.txt    Greek.txt\t  Korean.txt\tScottish.txt\n"
          ]
        }
      ]
    },
    {
      "cell_type": "code",
      "source": [
        "!head -n 10 ./data/names/Russian.txt"
      ],
      "metadata": {
        "id": "gHINKAYyK2NO",
        "colab": {
          "base_uri": "https://localhost:8080/"
        },
        "outputId": "51c08398-b8cd-4e83-94ce-579f7659d4e0"
      },
      "execution_count": 71,
      "outputs": [
        {
          "output_type": "stream",
          "name": "stdout",
          "text": [
            "Ababko\n",
            "Abaev\n",
            "Abagyan\n",
            "Abaidulin\n",
            "Abaidullin\n",
            "Abaimoff\n",
            "Abaimov\n",
            "Abakeliya\n",
            "Abakovsky\n",
            "Abakshin\n"
          ]
        }
      ]
    },
    {
      "cell_type": "code",
      "source": [
        "DATA_PATH = './data/names'\n",
        "for filename in os.listdir(DATA_PATH):\n",
        "  with open(f'{DATA_PATH}/{filename}') as f:\n",
        "    print('Filename', filename)\n",
        "    print('Lines', len(f.readlines()))"
      ],
      "metadata": {
        "colab": {
          "base_uri": "https://localhost:8080/"
        },
        "id": "vWbstgWFK_Gy",
        "outputId": "790adc5b-7617-4d4a-dda5-2557d43666ac"
      },
      "execution_count": 10,
      "outputs": [
        {
          "output_type": "stream",
          "name": "stdout",
          "text": [
            "Filename Irish.txt\n",
            "Lines 232\n",
            "Filename English.txt\n",
            "Lines 3668\n",
            "Filename Portuguese.txt\n",
            "Lines 74\n",
            "Filename Russian.txt\n",
            "Lines 9408\n",
            "Filename Vietnamese.txt\n",
            "Lines 73\n",
            "Filename German.txt\n",
            "Lines 724\n",
            "Filename Greek.txt\n",
            "Lines 203\n",
            "Filename Dutch.txt\n",
            "Lines 297\n",
            "Filename French.txt\n",
            "Lines 277\n",
            "Filename Chinese.txt\n",
            "Lines 268\n",
            "Filename Scottish.txt\n",
            "Lines 100\n",
            "Filename Japanese.txt\n",
            "Lines 991\n",
            "Filename Spanish.txt\n",
            "Lines 298\n",
            "Filename Italian.txt\n",
            "Lines 709\n",
            "Filename Polish.txt\n",
            "Lines 139\n",
            "Filename Arabic.txt\n",
            "Lines 2000\n",
            "Filename Korean.txt\n",
            "Lines 94\n",
            "Filename Czech.txt\n",
            "Lines 519\n"
          ]
        }
      ]
    },
    {
      "cell_type": "code",
      "source": [
        "os.listdir(DATA_PATH)"
      ],
      "metadata": {
        "colab": {
          "base_uri": "https://localhost:8080/"
        },
        "id": "Frirb4azLSo2",
        "outputId": "5e4b8737-3c88-45a2-9ba8-8b14c7a68ae7"
      },
      "execution_count": 11,
      "outputs": [
        {
          "output_type": "execute_result",
          "data": {
            "text/plain": [
              "['Irish.txt',\n",
              " 'English.txt',\n",
              " 'Portuguese.txt',\n",
              " 'Russian.txt',\n",
              " 'Vietnamese.txt',\n",
              " 'German.txt',\n",
              " 'Greek.txt',\n",
              " 'Dutch.txt',\n",
              " 'French.txt',\n",
              " 'Chinese.txt',\n",
              " 'Scottish.txt',\n",
              " 'Japanese.txt',\n",
              " 'Spanish.txt',\n",
              " 'Italian.txt',\n",
              " 'Polish.txt',\n",
              " 'Arabic.txt',\n",
              " 'Korean.txt',\n",
              " 'Czech.txt']"
            ]
          },
          "metadata": {},
          "execution_count": 11
        }
      ]
    },
    {
      "cell_type": "markdown",
      "source": [
        "# Adding one more class (for Ukrainian language)\n",
        "Note: data was taken from an open source through parsing: https://www.familytreedna.com/groups/ukrainian-dna/surnames\n",
        "\n",
        "Here is the script used to transform data to the needed format:\n",
        "```\n",
        "import json\n",
        "\n",
        "def process_names():\n",
        "    ukrainian_suffixes = ['enko', 'chuk', 'chak', 'yshyn', 'ishyn', 'skyi', 'vych', 'ko']\n",
        "    res = []\n",
        "    with open('./surnames.json', 'r') as f:\n",
        "        raw_surnames = json.loads(f.read())\n",
        "        for p in raw_surnames['surnames']:\n",
        "            if any(map(lambda s : p['name'].endswith(s), ukrainian_suffixes)):\n",
        "                res.append(p['name'])\n",
        "    print('Surnames: ', len(res))\n",
        "    with open('./Ukrainian.txt', 'w') as f:\n",
        "        f.write('\\n'.join(res))\n",
        "\n",
        "\n",
        "if __name__ == '__main__':\n",
        "    process_names()\n",
        "```"
      ],
      "metadata": {
        "id": "aDJ7ND7aWj9b"
      }
    },
    {
      "cell_type": "code",
      "source": [
        "upload_file()\n",
        "  \n",
        "!mv ./Ukrainian.txt ./data/names/"
      ],
      "metadata": {
        "colab": {
          "resources": {
            "http://localhost:8080/nbextensions/google.colab/files.js": {
              "data": "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",
              "ok": true,
              "headers": [
                [
                  "content-type",
                  "application/javascript"
                ]
              ],
              "status": 200,
              "status_text": ""
            }
          },
          "base_uri": "https://localhost:8080/",
          "height": 90
        },
        "id": "jz9Zkp1JL6ck",
        "outputId": "0988f7bd-0be4-4214-d0d3-3bc287d5ca98"
      },
      "execution_count": 12,
      "outputs": [
        {
          "output_type": "display_data",
          "data": {
            "text/plain": [
              "<IPython.core.display.HTML object>"
            ],
            "text/html": [
              "\n",
              "     <input type=\"file\" id=\"files-c9fbca59-0c41-4e91-acbb-f0f31c99b2eb\" name=\"files[]\" multiple disabled\n",
              "        style=\"border:none\" />\n",
              "     <output id=\"result-c9fbca59-0c41-4e91-acbb-f0f31c99b2eb\">\n",
              "      Upload widget is only available when the cell has been executed in the\n",
              "      current browser session. Please rerun this cell to enable.\n",
              "      </output>\n",
              "      <script src=\"/nbextensions/google.colab/files.js\"></script> "
            ]
          },
          "metadata": {}
        },
        {
          "output_type": "stream",
          "name": "stdout",
          "text": [
            "Saving Ukrainian.txt to Ukrainian.txt\n",
            "User uploaded file \"Ukrainian.txt\" with length 39041 bytes\n"
          ]
        }
      ]
    },
    {
      "cell_type": "code",
      "source": [
        "!ls ./data/names"
      ],
      "metadata": {
        "colab": {
          "base_uri": "https://localhost:8080/"
        },
        "id": "TNoKbxvWYAvz",
        "outputId": "27d402d8-32d4-45f4-9b87-6c5a3f0f4e50"
      },
      "execution_count": 13,
      "outputs": [
        {
          "output_type": "stream",
          "name": "stdout",
          "text": [
            "Arabic.txt   English.txt  Irish.txt\tPolish.txt\tSpanish.txt\n",
            "Chinese.txt  French.txt   Italian.txt\tPortuguese.txt\tUkrainian.txt\n",
            "Czech.txt    German.txt   Japanese.txt\tRussian.txt\tVietnamese.txt\n",
            "Dutch.txt    Greek.txt\t  Korean.txt\tScottish.txt\n"
          ]
        }
      ]
    },
    {
      "cell_type": "markdown",
      "source": [
        "# Using TPUs for faster learning"
      ],
      "metadata": {
        "id": "vNetpb_i4rku"
      }
    },
    {
      "cell_type": "code",
      "source": [
        "resolver = tf.distribute.cluster_resolver.TPUClusterResolver(tpu='')\n",
        "tf.config.experimental_connect_to_cluster(resolver)\n",
        "# This is the TPU initialization code that has to be at the beginning.\n",
        "tf.tpu.experimental.initialize_tpu_system(resolver)\n",
        "print(\"All devices: \", tf.config.list_logical_devices('TPU'))"
      ],
      "metadata": {
        "colab": {
          "base_uri": "https://localhost:8080/"
        },
        "id": "BZWeQznU4q9j",
        "outputId": "00e121bd-97ae-4aa2-ed00-0573905a18c9"
      },
      "execution_count": 14,
      "outputs": [
        {
          "output_type": "stream",
          "name": "stdout",
          "text": [
            "All devices:  [LogicalDevice(name='/job:worker/replica:0/task:0/device:TPU:0', device_type='TPU'), LogicalDevice(name='/job:worker/replica:0/task:0/device:TPU:1', device_type='TPU'), LogicalDevice(name='/job:worker/replica:0/task:0/device:TPU:2', device_type='TPU'), LogicalDevice(name='/job:worker/replica:0/task:0/device:TPU:3', device_type='TPU'), LogicalDevice(name='/job:worker/replica:0/task:0/device:TPU:4', device_type='TPU'), LogicalDevice(name='/job:worker/replica:0/task:0/device:TPU:5', device_type='TPU'), LogicalDevice(name='/job:worker/replica:0/task:0/device:TPU:6', device_type='TPU'), LogicalDevice(name='/job:worker/replica:0/task:0/device:TPU:7', device_type='TPU')]\n"
          ]
        }
      ]
    },
    {
      "cell_type": "code",
      "source": [
        "strategy = tf.distribute.TPUStrategy(resolver)"
      ],
      "metadata": {
        "id": "Z17fHG4a4_z2"
      },
      "execution_count": 15,
      "outputs": []
    },
    {
      "cell_type": "markdown",
      "source": [
        "# Preprocessing"
      ],
      "metadata": {
        "id": "NXwLV0aKrZB3"
      }
    },
    {
      "cell_type": "markdown",
      "source": [
        "### Turning unicode into ASCII\n",
        "_Note: code is taken from an open source: [StackOverflow](https://stackoverflow.com/questions/517923/what-is-the-best-way-to-remove-accents-normalize-in-a-python-unicode-string/518232#518232)_"
      ],
      "metadata": {
        "id": "UGs8BHGRZNgG"
      }
    },
    {
      "cell_type": "code",
      "source": [
        "all_letters = string.ascii_letters + \" .,;'\"\n",
        "n_letters = len(all_letters)\n",
        "\n",
        "# Turn a Unicode string to plain ASCII\n",
        "def unicodeToAscii(s):\n",
        "    return ''.join(\n",
        "        c for c in unicodedata.normalize('NFD', s) # make sure it is matching the normal form\n",
        "        if unicodedata.category(c) != 'Mn'\n",
        "        and c in all_letters\n",
        "    )\n",
        "\n",
        "\n",
        "# Read a file and split into lines\n",
        "def readLines(path):\n",
        "    lines = open(path, encoding='utf-8').read().strip().split('\\n')\n",
        "    return [unicodeToAscii(line) for line in lines]"
      ],
      "metadata": {
        "id": "R7pQVwXvYHZ4"
      },
      "execution_count": 16,
      "outputs": []
    },
    {
      "cell_type": "code",
      "source": [
        "category_lines = {}\n",
        "all_categories = []\n",
        "\n",
        "for filename in os.listdir(DATA_PATH):\n",
        "    category = filename.split('.')[0]\n",
        "    all_categories.append(category)\n",
        "    lines = readLines(f'{DATA_PATH}/{filename}')\n",
        "    category_lines[category] = lines\n",
        "\n",
        "n_categories = len(all_categories)"
      ],
      "metadata": {
        "id": "Pg-iW1uTZjjc"
      },
      "execution_count": 17,
      "outputs": []
    },
    {
      "cell_type": "code",
      "source": [
        "all_categories, n_categories"
      ],
      "metadata": {
        "colab": {
          "base_uri": "https://localhost:8080/"
        },
        "id": "LBE-9YMIZkMU",
        "outputId": "78337f7c-207c-4b6c-b9b5-12ca7c2d8af5"
      },
      "execution_count": 18,
      "outputs": [
        {
          "output_type": "execute_result",
          "data": {
            "text/plain": [
              "(['Irish',\n",
              "  'English',\n",
              "  'Portuguese',\n",
              "  'Russian',\n",
              "  'Vietnamese',\n",
              "  'German',\n",
              "  'Greek',\n",
              "  'Dutch',\n",
              "  'French',\n",
              "  'Chinese',\n",
              "  'Scottish',\n",
              "  'Japanese',\n",
              "  'Spanish',\n",
              "  'Italian',\n",
              "  'Polish',\n",
              "  'Arabic',\n",
              "  'Ukrainian',\n",
              "  'Korean',\n",
              "  'Czech'],\n",
              " 19)"
            ]
          },
          "metadata": {},
          "execution_count": 18
        }
      ]
    },
    {
      "cell_type": "code",
      "source": [
        "pd.DataFrame({category: random.sample(category_lines[category], 10) for category in all_categories})"
      ],
      "metadata": {
        "colab": {
          "base_uri": "https://localhost:8080/",
          "height": 423
        },
        "id": "blwwz9pLcmXo",
        "outputId": "6aafac4d-6579-4440-c092-df971dcf55e8"
      },
      "execution_count": 19,
      "outputs": [
        {
          "output_type": "execute_result",
          "data": {
            "text/plain": [
              "       Irish     English Portuguese      Russian Vietnamese      German  \\\n",
              "0  O'Doherty      Finney      Ferro      Bekhtin        Thi      Kerner   \n",
              "1     O'Dowd      Mackie    Ramires  Zhavoronsky       Thuy     Schmitt   \n",
              "2    Donovan  Kristensen      Matos     Androsov         Ly      Simmon   \n",
              "3      Simon      Hurley    Cardozo     Liberman      Hoang    Kurzmann   \n",
              "4     Conall      Lester  Henriques     Pechinin       Vinh  Spitznogle   \n",
              "5   Pharlain      Vikers       Belo     Dovgello       Tong       Mayer   \n",
              "6   Domhnall       Large      Costa     Zheludev         Vu    Schermer   \n",
              "7    O'Boyle       Elven    Basurto       Zhorov       Mach        Kopp   \n",
              "8    O'Toole    Naysmith   Santiago    Ametistov      Trang      Penzig   \n",
              "9   Bhrighde     Kennell     Cabral  Bachyanskas        Vuu      Schmid   \n",
              "\n",
              "              Greek       Dutch     French Chinese  Scottish  Japanese  \\\n",
              "0            Houlis       Aller    Boucher     Yue   Maclean   Shibata   \n",
              "1           Sotiris        Horn  Patenaude     Jia    Murphy   Sammiya   \n",
              "2       Karnoupakis  Rooiakkers      Soucy     Lao  Crawford    Kawaii   \n",
              "3          Petrakis      Paulis     Allard     Chi     Milne    Hayata   \n",
              "4  Chrysanthopoulos         Mas    Belrose     Hew   Fleming  Shimaoka   \n",
              "5      Galanopoulos   Haenraets     Robert    Miao    Hughes  Kurosawa   \n",
              "6            Tsogas    Haanrade       Gage    Sze       King    Satoya   \n",
              "7          Fourakis      Klerkx      Coupe   Zhang   Cameron  Sugawara   \n",
              "8         Paloumbas      Ogtrop  Armistead   Liang  Mcintyre   Hayashi   \n",
              "9           Rigatos       Silje     Deniau     Luo     Whyte   Tsumura   \n",
              "\n",
              "      Spanish        Italian      Polish   Arabic       Ukrainian Korean  \\\n",
              "0        Roma  Abategiovanni      Kaluza  Bishara  Rozhniatovskyi    Koo   \n",
              "1     Moralez         Aiello     Serafin    Arian        Yanovych    Cha   \n",
              "2      Castro          Nanni         Rog    Touma      Levadnenko    Chi   \n",
              "3       Toset          Bover     Rudaski     Baba       Shulezhko   Jang   \n",
              "4  De la cruz         Notaro  Wawrzaszek    Wasem         Semchuk  Hwang   \n",
              "5     Iniguez       Martelli   Wojewodka    Asker   Stanislavchuk     Ma   \n",
              "6    Belmonte           Zini     Salomon   Maloof           Gosko  Jeong   \n",
              "7   Fernandez      Innocenti     Mencher    Gaber         Lepskyi     Ko   \n",
              "8     Salazar          Sordi     Bartosz    Bazzi      Zhodkevych    Suh   \n",
              "9      Andreu          Acqua      Szwarc       Ba       Tysovskyi     Li   \n",
              "\n",
              "          Czech  \n",
              "0    Perevuznik  \n",
              "1         Tikal  \n",
              "2       Kirchma  \n",
              "3      Jedlicka  \n",
              "4         Macha  \n",
              "5        Klimes  \n",
              "6        Kuffel  \n",
              "7  Jarzembowski  \n",
              "8       Hodoval  \n",
              "9        Wizner  "
            ],
            "text/html": [
              "\n",
              "  <div id=\"df-6fcfa5f7-dfec-46b4-868b-4a296c187175\">\n",
              "    <div class=\"colab-df-container\">\n",
              "      <div>\n",
              "<style scoped>\n",
              "    .dataframe tbody tr th:only-of-type {\n",
              "        vertical-align: middle;\n",
              "    }\n",
              "\n",
              "    .dataframe tbody tr th {\n",
              "        vertical-align: top;\n",
              "    }\n",
              "\n",
              "    .dataframe thead th {\n",
              "        text-align: right;\n",
              "    }\n",
              "</style>\n",
              "<table border=\"1\" class=\"dataframe\">\n",
              "  <thead>\n",
              "    <tr style=\"text-align: right;\">\n",
              "      <th></th>\n",
              "      <th>Irish</th>\n",
              "      <th>English</th>\n",
              "      <th>Portuguese</th>\n",
              "      <th>Russian</th>\n",
              "      <th>Vietnamese</th>\n",
              "      <th>German</th>\n",
              "      <th>Greek</th>\n",
              "      <th>Dutch</th>\n",
              "      <th>French</th>\n",
              "      <th>Chinese</th>\n",
              "      <th>Scottish</th>\n",
              "      <th>Japanese</th>\n",
              "      <th>Spanish</th>\n",
              "      <th>Italian</th>\n",
              "      <th>Polish</th>\n",
              "      <th>Arabic</th>\n",
              "      <th>Ukrainian</th>\n",
              "      <th>Korean</th>\n",
              "      <th>Czech</th>\n",
              "    </tr>\n",
              "  </thead>\n",
              "  <tbody>\n",
              "    <tr>\n",
              "      <th>0</th>\n",
              "      <td>O'Doherty</td>\n",
              "      <td>Finney</td>\n",
              "      <td>Ferro</td>\n",
              "      <td>Bekhtin</td>\n",
              "      <td>Thi</td>\n",
              "      <td>Kerner</td>\n",
              "      <td>Houlis</td>\n",
              "      <td>Aller</td>\n",
              "      <td>Boucher</td>\n",
              "      <td>Yue</td>\n",
              "      <td>Maclean</td>\n",
              "      <td>Shibata</td>\n",
              "      <td>Roma</td>\n",
              "      <td>Abategiovanni</td>\n",
              "      <td>Kaluza</td>\n",
              "      <td>Bishara</td>\n",
              "      <td>Rozhniatovskyi</td>\n",
              "      <td>Koo</td>\n",
              "      <td>Perevuznik</td>\n",
              "    </tr>\n",
              "    <tr>\n",
              "      <th>1</th>\n",
              "      <td>O'Dowd</td>\n",
              "      <td>Mackie</td>\n",
              "      <td>Ramires</td>\n",
              "      <td>Zhavoronsky</td>\n",
              "      <td>Thuy</td>\n",
              "      <td>Schmitt</td>\n",
              "      <td>Sotiris</td>\n",
              "      <td>Horn</td>\n",
              "      <td>Patenaude</td>\n",
              "      <td>Jia</td>\n",
              "      <td>Murphy</td>\n",
              "      <td>Sammiya</td>\n",
              "      <td>Moralez</td>\n",
              "      <td>Aiello</td>\n",
              "      <td>Serafin</td>\n",
              "      <td>Arian</td>\n",
              "      <td>Yanovych</td>\n",
              "      <td>Cha</td>\n",
              "      <td>Tikal</td>\n",
              "    </tr>\n",
              "    <tr>\n",
              "      <th>2</th>\n",
              "      <td>Donovan</td>\n",
              "      <td>Kristensen</td>\n",
              "      <td>Matos</td>\n",
              "      <td>Androsov</td>\n",
              "      <td>Ly</td>\n",
              "      <td>Simmon</td>\n",
              "      <td>Karnoupakis</td>\n",
              "      <td>Rooiakkers</td>\n",
              "      <td>Soucy</td>\n",
              "      <td>Lao</td>\n",
              "      <td>Crawford</td>\n",
              "      <td>Kawaii</td>\n",
              "      <td>Castro</td>\n",
              "      <td>Nanni</td>\n",
              "      <td>Rog</td>\n",
              "      <td>Touma</td>\n",
              "      <td>Levadnenko</td>\n",
              "      <td>Chi</td>\n",
              "      <td>Kirchma</td>\n",
              "    </tr>\n",
              "    <tr>\n",
              "      <th>3</th>\n",
              "      <td>Simon</td>\n",
              "      <td>Hurley</td>\n",
              "      <td>Cardozo</td>\n",
              "      <td>Liberman</td>\n",
              "      <td>Hoang</td>\n",
              "      <td>Kurzmann</td>\n",
              "      <td>Petrakis</td>\n",
              "      <td>Paulis</td>\n",
              "      <td>Allard</td>\n",
              "      <td>Chi</td>\n",
              "      <td>Milne</td>\n",
              "      <td>Hayata</td>\n",
              "      <td>Toset</td>\n",
              "      <td>Bover</td>\n",
              "      <td>Rudaski</td>\n",
              "      <td>Baba</td>\n",
              "      <td>Shulezhko</td>\n",
              "      <td>Jang</td>\n",
              "      <td>Jedlicka</td>\n",
              "    </tr>\n",
              "    <tr>\n",
              "      <th>4</th>\n",
              "      <td>Conall</td>\n",
              "      <td>Lester</td>\n",
              "      <td>Henriques</td>\n",
              "      <td>Pechinin</td>\n",
              "      <td>Vinh</td>\n",
              "      <td>Spitznogle</td>\n",
              "      <td>Chrysanthopoulos</td>\n",
              "      <td>Mas</td>\n",
              "      <td>Belrose</td>\n",
              "      <td>Hew</td>\n",
              "      <td>Fleming</td>\n",
              "      <td>Shimaoka</td>\n",
              "      <td>De la cruz</td>\n",
              "      <td>Notaro</td>\n",
              "      <td>Wawrzaszek</td>\n",
              "      <td>Wasem</td>\n",
              "      <td>Semchuk</td>\n",
              "      <td>Hwang</td>\n",
              "      <td>Macha</td>\n",
              "    </tr>\n",
              "    <tr>\n",
              "      <th>5</th>\n",
              "      <td>Pharlain</td>\n",
              "      <td>Vikers</td>\n",
              "      <td>Belo</td>\n",
              "      <td>Dovgello</td>\n",
              "      <td>Tong</td>\n",
              "      <td>Mayer</td>\n",
              "      <td>Galanopoulos</td>\n",
              "      <td>Haenraets</td>\n",
              "      <td>Robert</td>\n",
              "      <td>Miao</td>\n",
              "      <td>Hughes</td>\n",
              "      <td>Kurosawa</td>\n",
              "      <td>Iniguez</td>\n",
              "      <td>Martelli</td>\n",
              "      <td>Wojewodka</td>\n",
              "      <td>Asker</td>\n",
              "      <td>Stanislavchuk</td>\n",
              "      <td>Ma</td>\n",
              "      <td>Klimes</td>\n",
              "    </tr>\n",
              "    <tr>\n",
              "      <th>6</th>\n",
              "      <td>Domhnall</td>\n",
              "      <td>Large</td>\n",
              "      <td>Costa</td>\n",
              "      <td>Zheludev</td>\n",
              "      <td>Vu</td>\n",
              "      <td>Schermer</td>\n",
              "      <td>Tsogas</td>\n",
              "      <td>Haanrade</td>\n",
              "      <td>Gage</td>\n",
              "      <td>Sze</td>\n",
              "      <td>King</td>\n",
              "      <td>Satoya</td>\n",
              "      <td>Belmonte</td>\n",
              "      <td>Zini</td>\n",
              "      <td>Salomon</td>\n",
              "      <td>Maloof</td>\n",
              "      <td>Gosko</td>\n",
              "      <td>Jeong</td>\n",
              "      <td>Kuffel</td>\n",
              "    </tr>\n",
              "    <tr>\n",
              "      <th>7</th>\n",
              "      <td>O'Boyle</td>\n",
              "      <td>Elven</td>\n",
              "      <td>Basurto</td>\n",
              "      <td>Zhorov</td>\n",
              "      <td>Mach</td>\n",
              "      <td>Kopp</td>\n",
              "      <td>Fourakis</td>\n",
              "      <td>Klerkx</td>\n",
              "      <td>Coupe</td>\n",
              "      <td>Zhang</td>\n",
              "      <td>Cameron</td>\n",
              "      <td>Sugawara</td>\n",
              "      <td>Fernandez</td>\n",
              "      <td>Innocenti</td>\n",
              "      <td>Mencher</td>\n",
              "      <td>Gaber</td>\n",
              "      <td>Lepskyi</td>\n",
              "      <td>Ko</td>\n",
              "      <td>Jarzembowski</td>\n",
              "    </tr>\n",
              "    <tr>\n",
              "      <th>8</th>\n",
              "      <td>O'Toole</td>\n",
              "      <td>Naysmith</td>\n",
              "      <td>Santiago</td>\n",
              "      <td>Ametistov</td>\n",
              "      <td>Trang</td>\n",
              "      <td>Penzig</td>\n",
              "      <td>Paloumbas</td>\n",
              "      <td>Ogtrop</td>\n",
              "      <td>Armistead</td>\n",
              "      <td>Liang</td>\n",
              "      <td>Mcintyre</td>\n",
              "      <td>Hayashi</td>\n",
              "      <td>Salazar</td>\n",
              "      <td>Sordi</td>\n",
              "      <td>Bartosz</td>\n",
              "      <td>Bazzi</td>\n",
              "      <td>Zhodkevych</td>\n",
              "      <td>Suh</td>\n",
              "      <td>Hodoval</td>\n",
              "    </tr>\n",
              "    <tr>\n",
              "      <th>9</th>\n",
              "      <td>Bhrighde</td>\n",
              "      <td>Kennell</td>\n",
              "      <td>Cabral</td>\n",
              "      <td>Bachyanskas</td>\n",
              "      <td>Vuu</td>\n",
              "      <td>Schmid</td>\n",
              "      <td>Rigatos</td>\n",
              "      <td>Silje</td>\n",
              "      <td>Deniau</td>\n",
              "      <td>Luo</td>\n",
              "      <td>Whyte</td>\n",
              "      <td>Tsumura</td>\n",
              "      <td>Andreu</td>\n",
              "      <td>Acqua</td>\n",
              "      <td>Szwarc</td>\n",
              "      <td>Ba</td>\n",
              "      <td>Tysovskyi</td>\n",
              "      <td>Li</td>\n",
              "      <td>Wizner</td>\n",
              "    </tr>\n",
              "  </tbody>\n",
              "</table>\n",
              "</div>\n",
              "      <button class=\"colab-df-convert\" onclick=\"convertToInteractive('df-6fcfa5f7-dfec-46b4-868b-4a296c187175')\"\n",
              "              title=\"Convert this dataframe to an interactive table.\"\n",
              "              style=\"display:none;\">\n",
              "        \n",
              "  <svg xmlns=\"http://www.w3.org/2000/svg\" height=\"24px\"viewBox=\"0 0 24 24\"\n",
              "       width=\"24px\">\n",
              "    <path d=\"M0 0h24v24H0V0z\" fill=\"none\"/>\n",
              "    <path d=\"M18.56 5.44l.94 2.06.94-2.06 2.06-.94-2.06-.94-.94-2.06-.94 2.06-2.06.94zm-11 1L8.5 8.5l.94-2.06 2.06-.94-2.06-.94L8.5 2.5l-.94 2.06-2.06.94zm10 10l.94 2.06.94-2.06 2.06-.94-2.06-.94-.94-2.06-.94 2.06-2.06.94z\"/><path d=\"M17.41 7.96l-1.37-1.37c-.4-.4-.92-.59-1.43-.59-.52 0-1.04.2-1.43.59L10.3 9.45l-7.72 7.72c-.78.78-.78 2.05 0 2.83L4 21.41c.39.39.9.59 1.41.59.51 0 1.02-.2 1.41-.59l7.78-7.78 2.81-2.81c.8-.78.8-2.07 0-2.86zM5.41 20L4 18.59l7.72-7.72 1.47 1.35L5.41 20z\"/>\n",
              "  </svg>\n",
              "      </button>\n",
              "      \n",
              "  <style>\n",
              "    .colab-df-container {\n",
              "      display:flex;\n",
              "      flex-wrap:wrap;\n",
              "      gap: 12px;\n",
              "    }\n",
              "\n",
              "    .colab-df-convert {\n",
              "      background-color: #E8F0FE;\n",
              "      border: none;\n",
              "      border-radius: 50%;\n",
              "      cursor: pointer;\n",
              "      display: none;\n",
              "      fill: #1967D2;\n",
              "      height: 32px;\n",
              "      padding: 0 0 0 0;\n",
              "      width: 32px;\n",
              "    }\n",
              "\n",
              "    .colab-df-convert:hover {\n",
              "      background-color: #E2EBFA;\n",
              "      box-shadow: 0px 1px 2px rgba(60, 64, 67, 0.3), 0px 1px 3px 1px rgba(60, 64, 67, 0.15);\n",
              "      fill: #174EA6;\n",
              "    }\n",
              "\n",
              "    [theme=dark] .colab-df-convert {\n",
              "      background-color: #3B4455;\n",
              "      fill: #D2E3FC;\n",
              "    }\n",
              "\n",
              "    [theme=dark] .colab-df-convert:hover {\n",
              "      background-color: #434B5C;\n",
              "      box-shadow: 0px 1px 3px 1px rgba(0, 0, 0, 0.15);\n",
              "      filter: drop-shadow(0px 1px 2px rgba(0, 0, 0, 0.3));\n",
              "      fill: #FFFFFF;\n",
              "    }\n",
              "  </style>\n",
              "\n",
              "      <script>\n",
              "        const buttonEl =\n",
              "          document.querySelector('#df-6fcfa5f7-dfec-46b4-868b-4a296c187175 button.colab-df-convert');\n",
              "        buttonEl.style.display =\n",
              "          google.colab.kernel.accessAllowed ? 'block' : 'none';\n",
              "\n",
              "        async function convertToInteractive(key) {\n",
              "          const element = document.querySelector('#df-6fcfa5f7-dfec-46b4-868b-4a296c187175');\n",
              "          const dataTable =\n",
              "            await google.colab.kernel.invokeFunction('convertToInteractive',\n",
              "                                                     [key], {});\n",
              "          if (!dataTable) return;\n",
              "\n",
              "          const docLinkHtml = 'Like what you see? Visit the ' +\n",
              "            '<a target=\"_blank\" href=https://colab.research.google.com/notebooks/data_table.ipynb>data table notebook</a>'\n",
              "            + ' to learn more about interactive tables.';\n",
              "          element.innerHTML = '';\n",
              "          dataTable['output_type'] = 'display_data';\n",
              "          await google.colab.output.renderOutput(dataTable, element);\n",
              "          const docLink = document.createElement('div');\n",
              "          docLink.innerHTML = docLinkHtml;\n",
              "          element.appendChild(docLink);\n",
              "        }\n",
              "      </script>\n",
              "    </div>\n",
              "  </div>\n",
              "  "
            ]
          },
          "metadata": {},
          "execution_count": 19
        }
      ]
    },
    {
      "cell_type": "markdown",
      "source": [
        "## Target value distribution"
      ],
      "metadata": {
        "id": "9FGfmrHronhZ"
      }
    },
    {
      "cell_type": "code",
      "source": [
        "sns.set_style('darkgrid')\n",
        "sns.set(font_scale=1.4)"
      ],
      "metadata": {
        "id": "jrHdfVaPostv"
      },
      "execution_count": 20,
      "outputs": []
    },
    {
      "cell_type": "code",
      "source": [
        "plt.figure(figsize=(14, 11))\n",
        "plt.bar(category_lines.keys(), list(map(len, category_lines.values())))\n",
        "plt.xticks(rotation=90)"
      ],
      "metadata": {
        "colab": {
          "base_uri": "https://localhost:8080/",
          "height": 763
        },
        "id": "4Wgx8UvCcstf",
        "outputId": "03738205-94cb-4470-b4aa-4124de6411a8"
      },
      "execution_count": 21,
      "outputs": [
        {
          "output_type": "execute_result",
          "data": {
            "text/plain": [
              "([0, 1, 2, 3, 4, 5, 6, 7, 8, 9, 10, 11, 12, 13, 14, 15, 16, 17, 18],\n",
              " <a list of 19 Text major ticklabel objects>)"
            ]
          },
          "metadata": {},
          "execution_count": 21
        },
        {
          "output_type": "display_data",
          "data": {
            "text/plain": [
              "<Figure size 1008x792 with 1 Axes>"
            ],
            "image/png": "[encoded data removed]"
          },
          "metadata": {}
        }
      ]
    },
    {
      "cell_type": "code",
      "source": [
        "print('Total entries:', sum(map(len, category_lines.values())))"
      ],
      "metadata": {
        "colab": {
          "base_uri": "https://localhost:8080/"
        },
        "id": "ugKZG3uevWjA",
        "outputId": "bf7a6cfc-3633-4f8c-f14d-e033ff4d6466"
      },
      "execution_count": 22,
      "outputs": [
        {
          "output_type": "stream",
          "name": "stdout",
          "text": [
            "Total entries: 23925\n"
          ]
        }
      ]
    },
    {
      "cell_type": "markdown",
      "source": [
        "# Loading data to tf"
      ],
      "metadata": {
        "id": "ZZUnZ5-tumfH"
      }
    },
    {
      "cell_type": "markdown",
      "source": [
        "## We will be using custom one-hot encoding. \n",
        "_Note: Out of the box encoding, and text vectorization for tensorflow deals with sentences, and shows pretty bad result when it comes to words, so we have to implement the encoding for the words with an assumption, that there is a specific limit on the length of the family name (we will be using 100, but that is debatable)_"
      ],
      "metadata": {
        "id": "bzb79rVEY8VZ"
      }
    },
    {
      "cell_type": "code",
      "source": [
        "def labeler(example, index):\n",
        "    return example, tf.cast(index, tf.int64)\n",
        "\n",
        "def letterToIndex(letter_code):\n",
        "    return all_letters.find(chr(letter_code))\n",
        "\n",
        "def one_hot_encode(lines, max_len):\n",
        "    encoded_tensors = []\n",
        "    for line in lines:\n",
        "        idxs = np.array(list(map(letterToIndex, np.fromstring(line, dtype=np.uint8))))\n",
        "        encoded = tf.one_hot(idxs, n_letters, dtype=tf.int32)\n",
        "        encoded_tensors.append(tf.pad(\n",
        "            encoded, [[0, max_len - encoded.shape[0]], [0, 0]], mode='CONSTANT', constant_values=0,\n",
        "        ))\n",
        "    return tf.stack(encoded_tensors)\n",
        "\n",
        "def one_hot_decode(tensors):\n",
        "    encoded_words = tensors.numpy()\n",
        "    decoded_words = []\n",
        "    for encoded_word in encoded_words:\n",
        "        word = ''\n",
        "        for encoded_letter in encoded_word:\n",
        "            if encoded_letter[np.argmax(encoded_letter)] == 0:\n",
        "                decoded_words.append(word)\n",
        "                break\n",
        "            word += all_letters[np.argmax(encoded_letter)]\n",
        "    return decoded_words"
      ],
      "metadata": {
        "id": "gw6bGjJlumDJ"
      },
      "execution_count": 23,
      "outputs": []
    },
    {
      "cell_type": "code",
      "source": [
        "print(one_hot_encode(['Adam', 'foo', 'bar', 'buzz'], 50))\n",
        "print(one_hot_decode(one_hot_encode(['Adam', 'foo', 'bar', 'buzz'], 50)))"
      ],
      "metadata": {
        "colab": {
          "base_uri": "https://localhost:8080/"
        },
        "id": "HKyTIK8YNsb8",
        "outputId": "d3e3cc83-62bf-41cc-a01e-23db15725cef"
      },
      "execution_count": 24,
      "outputs": [
        {
          "output_type": "stream",
          "name": "stdout",
          "text": [
            "tf.Tensor(\n",
            "[[[0 0 0 ... 0 0 0]\n",
            "  [0 0 0 ... 0 0 0]\n",
            "  [1 0 0 ... 0 0 0]\n",
            "  ...\n",
            "  [0 0 0 ... 0 0 0]\n",
            "  [0 0 0 ... 0 0 0]\n",
            "  [0 0 0 ... 0 0 0]]\n",
            "\n",
            " [[0 0 0 ... 0 0 0]\n",
            "  [0 0 0 ... 0 0 0]\n",
            "  [0 0 0 ... 0 0 0]\n",
            "  ...\n",
            "  [0 0 0 ... 0 0 0]\n",
            "  [0 0 0 ... 0 0 0]\n",
            "  [0 0 0 ... 0 0 0]]\n",
            "\n",
            " [[0 1 0 ... 0 0 0]\n",
            "  [1 0 0 ... 0 0 0]\n",
            "  [0 0 0 ... 0 0 0]\n",
            "  ...\n",
            "  [0 0 0 ... 0 0 0]\n",
            "  [0 0 0 ... 0 0 0]\n",
            "  [0 0 0 ... 0 0 0]]\n",
            "\n",
            " [[0 1 0 ... 0 0 0]\n",
            "  [0 0 0 ... 0 0 0]\n",
            "  [0 0 0 ... 0 0 0]\n",
            "  ...\n",
            "  [0 0 0 ... 0 0 0]\n",
            "  [0 0 0 ... 0 0 0]\n",
            "  [0 0 0 ... 0 0 0]]], shape=(4, 50, 57), dtype=int32)\n",
            "['Adam', 'foo', 'bar', 'buzz']\n"
          ]
        },
        {
          "output_type": "stream",
          "name": "stderr",
          "text": [
            "/usr/local/lib/python3.7/dist-packages/ipykernel_launcher.py:10: DeprecationWarning: The binary mode of fromstring is deprecated, as it behaves surprisingly on unicode inputs. Use frombuffer instead\n",
            "  # Remove the CWD from sys.path while we load stuff.\n"
          ]
        }
      ]
    },
    {
      "cell_type": "markdown",
      "source": [
        "# Training"
      ],
      "metadata": {
        "id": "Ape9E453o3PG"
      }
    },
    {
      "cell_type": "code",
      "source": [
        "labeled_datasets = []\n",
        "MAX_WORD_LEN = 100\n",
        "\n",
        "for i, category in enumerate(all_categories):\n",
        "    print('Label:', i, 'Category:', category)\n",
        "    lines_dataset = tf.data.Dataset.from_tensor_slices(one_hot_encode(category_lines[category], MAX_WORD_LEN))\n",
        "    labeled_dataset = lines_dataset.map(lambda ex: labeler(ex, i))\n",
        "    labeled_datasets.append(labeled_dataset)"
      ],
      "metadata": {
        "colab": {
          "base_uri": "https://localhost:8080/"
        },
        "id": "0xgNT4k-sUIK",
        "outputId": "ef4ffeee-9db9-4a32-d127-7d57f94cbbd1"
      },
      "execution_count": 25,
      "outputs": [
        {
          "output_type": "stream",
          "name": "stdout",
          "text": [
            "Label: 0 Category: Irish\n"
          ]
        },
        {
          "output_type": "stream",
          "name": "stderr",
          "text": [
            "/usr/local/lib/python3.7/dist-packages/ipykernel_launcher.py:10: DeprecationWarning: The binary mode of fromstring is deprecated, as it behaves surprisingly on unicode inputs. Use frombuffer instead\n",
            "  # Remove the CWD from sys.path while we load stuff.\n"
          ]
        },
        {
          "output_type": "stream",
          "name": "stdout",
          "text": [
            "Label: 1 Category: English\n",
            "Label: 2 Category: Portuguese\n",
            "Label: 3 Category: Russian\n",
            "Label: 4 Category: Vietnamese\n",
            "Label: 5 Category: German\n",
            "Label: 6 Category: Greek\n",
            "Label: 7 Category: Dutch\n",
            "Label: 8 Category: French\n",
            "Label: 9 Category: Chinese\n",
            "Label: 10 Category: Scottish\n",
            "Label: 11 Category: Japanese\n",
            "Label: 12 Category: Spanish\n",
            "Label: 13 Category: Italian\n",
            "Label: 14 Category: Polish\n",
            "Label: 15 Category: Arabic\n",
            "Label: 16 Category: Ukrainian\n",
            "Label: 17 Category: Korean\n",
            "Label: 18 Category: Czech\n"
          ]
        }
      ]
    },
    {
      "cell_type": "code",
      "source": [
        "BUFFER_SIZE = 25000 # we can fit the whole dataset in buffer, it is pretty small\n",
        "BATCH_SIZE = 64\n",
        "VALIDATION_SIZE = 8000 # about 30% of the data"
      ],
      "metadata": {
        "id": "xatAFt-fvBj0"
      },
      "execution_count": 26,
      "outputs": []
    },
    {
      "cell_type": "code",
      "source": [
        "all_labeled_data = labeled_datasets[0]\n",
        "for labeled_dataset in labeled_datasets[1:]:\n",
        "    all_labeled_data = all_labeled_data.concatenate(labeled_dataset)\n",
        "\n",
        "all_labeled_data = all_labeled_data.shuffle(\n",
        "    BUFFER_SIZE, reshuffle_each_iteration=False)\n",
        "all_labeled_data"
      ],
      "metadata": {
        "colab": {
          "base_uri": "https://localhost:8080/"
        },
        "id": "FncMgwOQvqkX",
        "outputId": "6dccafc2-11f6-4879-9b25-8240c1884c04"
      },
      "execution_count": 27,
      "outputs": [
        {
          "output_type": "execute_result",
          "data": {
            "text/plain": [
              "<ShuffleDataset element_spec=(TensorSpec(shape=(100, 57), dtype=tf.int32, name=None), TensorSpec(shape=(), dtype=tf.int64, name=None))>"
            ]
          },
          "metadata": {},
          "execution_count": 27
        }
      ]
    },
    {
      "cell_type": "code",
      "source": [
        "for encoded_name, label in all_labeled_data.take(10):\n",
        "    print('Surname: ', one_hot_decode(tf.expand_dims(encoded_name, axis=0)))\n",
        "    print('Language:', all_categories[label.numpy()], label.numpy())\n",
        "    print('Correct label:', one_hot_decode(tf.expand_dims(encoded_name, axis=0))[0] in category_lines[all_categories[label.numpy()]])\n",
        "    print('****')"
      ],
      "metadata": {
        "colab": {
          "base_uri": "https://localhost:8080/"
        },
        "id": "6qj0YYFivyoL",
        "outputId": "41a140f6-7b73-4261-eca4-a515abdecb21"
      },
      "execution_count": 28,
      "outputs": [
        {
          "output_type": "stream",
          "name": "stdout",
          "text": [
            "Surname:  ['Finkelson']\n",
            "Language: Russian 3\n",
            "Correct label: True\n",
            "****\n",
            "Surname:  ['Jamsuev']\n",
            "Language: Russian 3\n",
            "Correct label: True\n",
            "****\n",
            "Surname:  ['Dykes']\n",
            "Language: English 1\n",
            "Correct label: True\n",
            "****\n",
            "Surname:  ['Toyoda']\n",
            "Language: Japanese 11\n",
            "Correct label: True\n",
            "****\n",
            "Surname:  ['Bratchichenko']\n",
            "Language: Ukrainian 16\n",
            "Correct label: True\n",
            "****\n",
            "Surname:  ['Padva']\n",
            "Language: Russian 3\n",
            "Correct label: True\n",
            "****\n",
            "Surname:  ['Juchenko']\n",
            "Language: Russian 3\n",
            "Correct label: True\n",
            "****\n",
            "Surname:  ['Hinchin']\n",
            "Language: Russian 3\n",
            "Correct label: True\n",
            "****\n",
            "Surname:  ['Danichenko']\n",
            "Language: Russian 3\n",
            "Correct label: True\n",
            "****\n",
            "Surname:  ['Nurhamitov']\n",
            "Language: Russian 3\n",
            "Correct label: True\n",
            "****\n"
          ]
        }
      ]
    },
    {
      "cell_type": "markdown",
      "source": [
        "## Getting train and validation data"
      ],
      "metadata": {
        "id": "Y0_zplWs_KNd"
      }
    },
    {
      "cell_type": "code",
      "source": [
        "train_data = all_labeled_data.skip(VALIDATION_SIZE).shuffle(BUFFER_SIZE)\n",
        "validation_data = all_labeled_data.take(VALIDATION_SIZE)"
      ],
      "metadata": {
        "id": "ZgPM2j19_Jmu"
      },
      "execution_count": 29,
      "outputs": []
    },
    {
      "cell_type": "code",
      "source": [
        "train_dataset = train_data.shuffle(BUFFER_SIZE).batch(BATCH_SIZE).prefetch(tf.data.AUTOTUNE)\n",
        "validation_data = validation_data.batch(BATCH_SIZE).prefetch(tf.data.AUTOTUNE)"
      ],
      "metadata": {
        "id": "KGGX_xBxqNwx"
      },
      "execution_count": 30,
      "outputs": []
    },
    {
      "cell_type": "code",
      "source": [
        "for example, label in train_dataset.take(1):\n",
        "  print('texts: ', example.numpy().shape)\n",
        "  print()\n",
        "  print('labels: ', label.numpy().shape)"
      ],
      "metadata": {
        "colab": {
          "base_uri": "https://localhost:8080/"
        },
        "id": "0APTRYS_kY3d",
        "outputId": "e8e5ddfb-b845-4114-d36b-28c3ee6146b9"
      },
      "execution_count": 31,
      "outputs": [
        {
          "output_type": "stream",
          "name": "stdout",
          "text": [
            "texts:  (64, 100, 57)\n",
            "\n",
            "labels:  (64,)\n"
          ]
        }
      ]
    },
    {
      "cell_type": "markdown",
      "source": [
        "# Modelling"
      ],
      "metadata": {
        "id": "RGoUEDzAHdEk"
      }
    },
    {
      "cell_type": "code",
      "source": [
        "METRICS = [\n",
        "      'accuracy',\n",
        "    #   'mean_absolute_percentage_error', # was not too useful\n",
        "    #   'mean_squared_logarithmic_error' # was not too useful\n",
        "]\n",
        "\n",
        "def make_model_rnn(metrics=METRICS):\n",
        "    with strategy.scope():\n",
        "        model = tf.keras.Sequential([\n",
        "            tf.keras.layers.Input(shape=(MAX_WORD_LEN, n_letters)),\n",
        "            # tf.keras.layers.Embedding(n_letters, 64),\n",
        "            tf.keras.layers.Bidirectional(tf.keras.layers.LSTM(64, return_sequences=True)),\n",
        "            tf.keras.layers.Bidirectional(tf.keras.layers.LSTM(32)),\n",
        "            tf.keras.layers.Dense(64, activation='relu'),\n",
        "            tf.keras.layers.Dropout(0.5),\n",
        "            tf.keras.layers.Dense(n_categories, activation='softmax')\n",
        "        ])\n",
        "        model.compile(loss=tf.keras.losses.SparseCategoricalCrossentropy(),\n",
        "                optimizer=tf.keras.optimizers.Adam(1e-4),\n",
        "                metrics=metrics)\n",
        "\n",
        "    return model"
      ],
      "metadata": {
        "id": "OE9lfWgPpXGE"
      },
      "execution_count": 32,
      "outputs": []
    },
    {
      "cell_type": "code",
      "source": [
        "model_rnn = make_model_rnn()\n",
        "model_rnn.summary()"
      ],
      "metadata": {
        "colab": {
          "base_uri": "https://localhost:8080/"
        },
        "id": "2KHldfUwp4SP",
        "outputId": "0556082c-1d96-4809-e045-3422f1190630"
      },
      "execution_count": 33,
      "outputs": [
        {
          "output_type": "stream",
          "name": "stdout",
          "text": [
            "Model: \"sequential\"\n",
            "_________________________________________________________________\n",
            " Layer (type)                Output Shape              Param #   \n",
            "=================================================================\n",
            " bidirectional (Bidirectiona  (None, 100, 128)         62464     \n",
            " l)                                                              \n",
            "                                                                 \n",
            " bidirectional_1 (Bidirectio  (None, 64)               41216     \n",
            " nal)                                                            \n",
            "                                                                 \n",
            " dense (Dense)               (None, 64)                4160      \n",
            "                                                                 \n",
            " dropout (Dropout)           (None, 64)                0         \n",
            "                                                                 \n",
            " dense_1 (Dense)             (None, 19)                1235      \n",
            "                                                                 \n",
            "=================================================================\n",
            "Total params: 109,075\n",
            "Trainable params: 109,075\n",
            "Non-trainable params: 0\n",
            "_________________________________________________________________\n"
          ]
        }
      ]
    },
    {
      "cell_type": "code",
      "source": [
        "history = model_rnn.fit(train_dataset, epochs=50,\n",
        "                    validation_data=validation_data,\n",
        "                    validation_steps=30)"
      ],
      "metadata": {
        "colab": {
          "base_uri": "https://localhost:8080/"
        },
        "id": "noeR-rx4IJDp",
        "outputId": "ee62cb8e-4f2b-4b07-ad86-b6189815374d"
      },
      "execution_count": 34,
      "outputs": [
        {
          "output_type": "stream",
          "name": "stdout",
          "text": [
            "Epoch 1/50\n",
            "249/249 [==============================] - 29s 68ms/step - loss: 2.4640 - accuracy: 0.3661 - val_loss: 2.0326 - val_accuracy: 0.3703\n",
            "Epoch 2/50\n",
            "249/249 [==============================] - 11s 42ms/step - loss: 1.9621 - accuracy: 0.4011 - val_loss: 1.6921 - val_accuracy: 0.4510\n",
            "Epoch 3/50\n",
            "249/249 [==============================] - 11s 42ms/step - loss: 1.7117 - accuracy: 0.4588 - val_loss: 1.5122 - val_accuracy: 0.5208\n",
            "Epoch 4/50\n",
            "249/249 [==============================] - 11s 43ms/step - loss: 1.5918 - accuracy: 0.5136 - val_loss: 1.4347 - val_accuracy: 0.5495\n",
            "Epoch 5/50\n",
            "249/249 [==============================] - 11s 43ms/step - loss: 1.5250 - accuracy: 0.5454 - val_loss: 1.4184 - val_accuracy: 0.5656\n",
            "Epoch 6/50\n",
            "249/249 [==============================] - 11s 43ms/step - loss: 1.4818 - accuracy: 0.5615 - val_loss: 1.3563 - val_accuracy: 0.5766\n",
            "Epoch 7/50\n",
            "249/249 [==============================] - 11s 42ms/step - loss: 1.4448 - accuracy: 0.5751 - val_loss: 1.3340 - val_accuracy: 0.6016\n",
            "Epoch 8/50\n",
            "249/249 [==============================] - 11s 42ms/step - loss: 1.4136 - accuracy: 0.5829 - val_loss: 1.2964 - val_accuracy: 0.6161\n",
            "Epoch 9/50\n",
            "249/249 [==============================] - 11s 42ms/step - loss: 1.3778 - accuracy: 0.5979 - val_loss: 1.2669 - val_accuracy: 0.6245\n",
            "Epoch 10/50\n",
            "249/249 [==============================] - 11s 43ms/step - loss: 1.3448 - accuracy: 0.6120 - val_loss: 1.2365 - val_accuracy: 0.6385\n",
            "Epoch 11/50\n",
            "249/249 [==============================] - 11s 43ms/step - loss: 1.3146 - accuracy: 0.6178 - val_loss: 1.2200 - val_accuracy: 0.6422\n",
            "Epoch 12/50\n",
            "249/249 [==============================] - 12s 45ms/step - loss: 1.2918 - accuracy: 0.6291 - val_loss: 1.1958 - val_accuracy: 0.6474\n",
            "Epoch 13/50\n",
            "249/249 [==============================] - 11s 43ms/step - loss: 1.2603 - accuracy: 0.6438 - val_loss: 1.1950 - val_accuracy: 0.6526\n",
            "Epoch 14/50\n",
            "249/249 [==============================] - 11s 43ms/step - loss: 1.2446 - accuracy: 0.6497 - val_loss: 1.1590 - val_accuracy: 0.6599\n",
            "Epoch 15/50\n",
            "249/249 [==============================] - 11s 43ms/step - loss: 1.2265 - accuracy: 0.6563 - val_loss: 1.1401 - val_accuracy: 0.6693\n",
            "Epoch 16/50\n",
            "249/249 [==============================] - 11s 43ms/step - loss: 1.2037 - accuracy: 0.6614 - val_loss: 1.1073 - val_accuracy: 0.6797\n",
            "Epoch 17/50\n",
            "249/249 [==============================] - 11s 43ms/step - loss: 1.1869 - accuracy: 0.6614 - val_loss: 1.1061 - val_accuracy: 0.6786\n",
            "Epoch 18/50\n",
            "249/249 [==============================] - 11s 43ms/step - loss: 1.1740 - accuracy: 0.6689 - val_loss: 1.0804 - val_accuracy: 0.6849\n",
            "Epoch 19/50\n",
            "249/249 [==============================] - 11s 43ms/step - loss: 1.1654 - accuracy: 0.6713 - val_loss: 1.0701 - val_accuracy: 0.6906\n",
            "Epoch 20/50\n",
            "249/249 [==============================] - 11s 43ms/step - loss: 1.1459 - accuracy: 0.6764 - val_loss: 1.0543 - val_accuracy: 0.6984\n",
            "Epoch 21/50\n",
            "249/249 [==============================] - 11s 43ms/step - loss: 1.1348 - accuracy: 0.6835 - val_loss: 1.0730 - val_accuracy: 0.6948\n",
            "Epoch 22/50\n",
            "249/249 [==============================] - 11s 43ms/step - loss: 1.1225 - accuracy: 0.6828 - val_loss: 1.0199 - val_accuracy: 0.7109\n",
            "Epoch 23/50\n",
            "249/249 [==============================] - 12s 45ms/step - loss: 1.1039 - accuracy: 0.6892 - val_loss: 1.0162 - val_accuracy: 0.7089\n",
            "Epoch 24/50\n",
            "249/249 [==============================] - 11s 43ms/step - loss: 1.1071 - accuracy: 0.6865 - val_loss: 1.0106 - val_accuracy: 0.7073\n",
            "Epoch 25/50\n",
            "249/249 [==============================] - 11s 43ms/step - loss: 1.0890 - accuracy: 0.6921 - val_loss: 1.0094 - val_accuracy: 0.7125\n",
            "Epoch 26/50\n",
            "249/249 [==============================] - 12s 45ms/step - loss: 1.0862 - accuracy: 0.6948 - val_loss: 0.9952 - val_accuracy: 0.7115\n",
            "Epoch 27/50\n",
            "249/249 [==============================] - 11s 43ms/step - loss: 1.0774 - accuracy: 0.6935 - val_loss: 0.9981 - val_accuracy: 0.7135\n",
            "Epoch 28/50\n",
            "249/249 [==============================] - 11s 43ms/step - loss: 1.0591 - accuracy: 0.7009 - val_loss: 0.9690 - val_accuracy: 0.7260\n",
            "Epoch 29/50\n",
            "249/249 [==============================] - 11s 44ms/step - loss: 1.0507 - accuracy: 0.7022 - val_loss: 0.9685 - val_accuracy: 0.7234\n",
            "Epoch 30/50\n",
            "249/249 [==============================] - 11s 43ms/step - loss: 1.0507 - accuracy: 0.7019 - val_loss: 0.9583 - val_accuracy: 0.7260\n",
            "Epoch 31/50\n",
            "249/249 [==============================] - 11s 44ms/step - loss: 1.0358 - accuracy: 0.7036 - val_loss: 0.9560 - val_accuracy: 0.7203\n",
            "Epoch 32/50\n",
            "249/249 [==============================] - 11s 44ms/step - loss: 1.0314 - accuracy: 0.7052 - val_loss: 0.9537 - val_accuracy: 0.7224\n",
            "Epoch 33/50\n",
            "249/249 [==============================] - 11s 43ms/step - loss: 1.0210 - accuracy: 0.7084 - val_loss: 0.9443 - val_accuracy: 0.7245\n",
            "Epoch 34/50\n",
            "249/249 [==============================] - 11s 43ms/step - loss: 1.0156 - accuracy: 0.7068 - val_loss: 0.9358 - val_accuracy: 0.7286\n",
            "Epoch 35/50\n",
            "249/249 [==============================] - 11s 43ms/step - loss: 1.0028 - accuracy: 0.7108 - val_loss: 0.9239 - val_accuracy: 0.7302\n",
            "Epoch 36/50\n",
            "249/249 [==============================] - 11s 43ms/step - loss: 1.0018 - accuracy: 0.7097 - val_loss: 0.9152 - val_accuracy: 0.7344\n",
            "Epoch 37/50\n",
            "249/249 [==============================] - 11s 43ms/step - loss: 0.9968 - accuracy: 0.7123 - val_loss: 0.9290 - val_accuracy: 0.7219\n",
            "Epoch 38/50\n",
            "249/249 [==============================] - 11s 44ms/step - loss: 0.9892 - accuracy: 0.7137 - val_loss: 0.9099 - val_accuracy: 0.7313\n",
            "Epoch 39/50\n",
            "249/249 [==============================] - 11s 44ms/step - loss: 0.9794 - accuracy: 0.7128 - val_loss: 0.8981 - val_accuracy: 0.7349\n",
            "Epoch 40/50\n",
            "249/249 [==============================] - 11s 43ms/step - loss: 0.9776 - accuracy: 0.7156 - val_loss: 0.9067 - val_accuracy: 0.7333\n",
            "Epoch 41/50\n",
            "249/249 [==============================] - 11s 43ms/step - loss: 0.9753 - accuracy: 0.7151 - val_loss: 0.8956 - val_accuracy: 0.7375\n",
            "Epoch 42/50\n",
            "249/249 [==============================] - 11s 43ms/step - loss: 0.9657 - accuracy: 0.7212 - val_loss: 0.8831 - val_accuracy: 0.7474\n",
            "Epoch 43/50\n",
            "249/249 [==============================] - 11s 43ms/step - loss: 0.9538 - accuracy: 0.7213 - val_loss: 0.8879 - val_accuracy: 0.7417\n",
            "Epoch 44/50\n",
            "249/249 [==============================] - 11s 44ms/step - loss: 0.9467 - accuracy: 0.7243 - val_loss: 0.8810 - val_accuracy: 0.7411\n",
            "Epoch 45/50\n",
            "249/249 [==============================] - 11s 43ms/step - loss: 0.9485 - accuracy: 0.7228 - val_loss: 0.8639 - val_accuracy: 0.7495\n",
            "Epoch 46/50\n",
            "249/249 [==============================] - 11s 44ms/step - loss: 0.9311 - accuracy: 0.7319 - val_loss: 0.8587 - val_accuracy: 0.7469\n",
            "Epoch 47/50\n",
            "249/249 [==============================] - 11s 43ms/step - loss: 0.9322 - accuracy: 0.7271 - val_loss: 0.8607 - val_accuracy: 0.7516\n",
            "Epoch 48/50\n",
            "249/249 [==============================] - 11s 44ms/step - loss: 0.9289 - accuracy: 0.7290 - val_loss: 0.8605 - val_accuracy: 0.7542\n",
            "Epoch 49/50\n",
            "249/249 [==============================] - 11s 44ms/step - loss: 0.9210 - accuracy: 0.7311 - val_loss: 0.8708 - val_accuracy: 0.7490\n",
            "Epoch 50/50\n",
            "249/249 [==============================] - 11s 44ms/step - loss: 0.9204 - accuracy: 0.7319 - val_loss: 0.8741 - val_accuracy: 0.7469\n"
          ]
        }
      ]
    },
    {
      "cell_type": "markdown",
      "source": [
        "# Examine the results:"
      ],
      "metadata": {
        "id": "MaAQGo2Rs6kP"
      }
    },
    {
      "cell_type": "code",
      "source": [
        "def plot_graphs(history, metric):\n",
        "    plt.plot(history.history[metric])\n",
        "    plt.plot(history.history['val_'+metric], '')\n",
        "    plt.xlabel(\"Epochs\")\n",
        "    plt.ylabel(metric)\n",
        "    plt.legend([metric, 'val_'+metric])"
      ],
      "metadata": {
        "id": "TdsOExdwecec"
      },
      "execution_count": 35,
      "outputs": []
    },
    {
      "cell_type": "code",
      "source": [
        "plt.figure(figsize=(14, 11))\n",
        "plot_graphs(history, 'accuracy')"
      ],
      "metadata": {
        "id": "XzT9Bw1fmmPR",
        "colab": {
          "base_uri": "https://localhost:8080/",
          "height": 675
        },
        "outputId": "5e068770-adbb-4b68-c383-7339fba4e394"
      },
      "execution_count": 36,
      "outputs": [
        {
          "output_type": "display_data",
          "data": {
            "text/plain": [
              "<Figure size 1008x792 with 1 Axes>"
            ],
            "image/png": "[encoded data removed]"
          },
          "metadata": {}
        }
      ]
    },
    {
      "cell_type": "code",
      "source": [
        "plt.figure(figsize=(14, 11))\n",
        "plot_graphs(history, 'loss')"
      ],
      "metadata": {
        "colab": {
          "base_uri": "https://localhost:8080/",
          "height": 675
        },
        "id": "NYYYSjMRsKtd",
        "outputId": "94131719-e37d-495f-c2c3-78dbb571d64a"
      },
      "execution_count": 37,
      "outputs": [
        {
          "output_type": "display_data",
          "data": {
            "text/plain": [
              "<Figure size 1008x792 with 1 Axes>"
            ],
            "image/png": "[encoded data removed]"
          },
          "metadata": {}
        }
      ]
    },
    {
      "cell_type": "code",
      "source": [
        "res = model_rnn.evaluate(validation_data)\n",
        "\n",
        "print('Test Loss:', res[0])\n",
        "print('Test Accuracy:', res[1])"
      ],
      "metadata": {
        "colab": {
          "base_uri": "https://localhost:8080/"
        },
        "id": "nG7TDihGwcIe",
        "outputId": "26f025bf-241e-41bd-b9f4-c8ccc5ae5326"
      },
      "execution_count": 38,
      "outputs": [
        {
          "output_type": "stream",
          "name": "stdout",
          "text": [
            "125/125 [==============================] - 5s 23ms/step - loss: 0.8747 - accuracy: 0.7400\n",
            "Test Loss: 0.874663770198822\n",
            "Test Accuracy: 0.7400000095367432\n"
          ]
        }
      ]
    },
    {
      "cell_type": "code",
      "source": [
        "def predict_name(model, name, k=3):\n",
        "    predictions = model.predict(one_hot_encode([name], MAX_WORD_LEN))\n",
        "    for i in np.argsort(predictions)[0][-k:]:\n",
        "        print('>', all_categories[i])"
      ],
      "metadata": {
        "id": "-1Jv26FS2PRM"
      },
      "execution_count": 40,
      "outputs": []
    },
    {
      "cell_type": "code",
      "source": [
        "predict_name(model_rnn, 'Tytarenko') # Ukrainian/Russian"
      ],
      "metadata": {
        "colab": {
          "base_uri": "https://localhost:8080/"
        },
        "id": "sI_6YU6dz3Je",
        "outputId": "b6a2a0f5-3782-4281-97da-5b9bcf78ce37"
      },
      "execution_count": 42,
      "outputs": [
        {
          "output_type": "stream",
          "name": "stderr",
          "text": [
            "/usr/local/lib/python3.7/dist-packages/ipykernel_launcher.py:10: DeprecationWarning: The binary mode of fromstring is deprecated, as it behaves surprisingly on unicode inputs. Use frombuffer instead\n",
            "  # Remove the CWD from sys.path while we load stuff.\n"
          ]
        },
        {
          "output_type": "stream",
          "name": "stdout",
          "text": [
            "> Czech\n",
            "> Russian\n",
            "> Ukrainian\n"
          ]
        }
      ]
    },
    {
      "cell_type": "code",
      "source": [
        "predict_name(model_rnn, 'Pylypenko') # Russian/Ukrainian"
      ],
      "metadata": {
        "colab": {
          "base_uri": "https://localhost:8080/"
        },
        "id": "dYZUsiYb-9c2",
        "outputId": "6418f3e1-e4c9-4a2e-b344-6156ae010215"
      },
      "execution_count": 44,
      "outputs": [
        {
          "output_type": "stream",
          "name": "stderr",
          "text": [
            "/usr/local/lib/python3.7/dist-packages/ipykernel_launcher.py:10: DeprecationWarning: The binary mode of fromstring is deprecated, as it behaves surprisingly on unicode inputs. Use frombuffer instead\n",
            "  # Remove the CWD from sys.path while we load stuff.\n"
          ]
        },
        {
          "output_type": "stream",
          "name": "stdout",
          "text": [
            "> Czech\n",
            "> Russian\n",
            "> Ukrainian\n"
          ]
        }
      ]
    },
    {
      "cell_type": "code",
      "source": [
        "predict_name(model_rnn, 'Huliev') # Asian"
      ],
      "metadata": {
        "colab": {
          "base_uri": "https://localhost:8080/"
        },
        "id": "Mq8faqIJ_Dcw",
        "outputId": "4b610945-0ce9-4eb5-a38b-7f521195fb2d"
      },
      "execution_count": 46,
      "outputs": [
        {
          "output_type": "stream",
          "name": "stderr",
          "text": [
            "/usr/local/lib/python3.7/dist-packages/ipykernel_launcher.py:10: DeprecationWarning: The binary mode of fromstring is deprecated, as it behaves surprisingly on unicode inputs. Use frombuffer instead\n",
            "  # Remove the CWD from sys.path while we load stuff.\n"
          ]
        },
        {
          "output_type": "stream",
          "name": "stdout",
          "text": [
            "> Czech\n",
            "> English\n",
            "> Russian\n"
          ]
        }
      ]
    },
    {
      "cell_type": "code",
      "source": [
        "predict_name(model_rnn, 'Kapusta') # Russian"
      ],
      "metadata": {
        "colab": {
          "base_uri": "https://localhost:8080/"
        },
        "id": "TzeRzRPU_FWX",
        "outputId": "1b1539b7-3121-4fcb-f177-6f75b9b71028"
      },
      "execution_count": 48,
      "outputs": [
        {
          "output_type": "stream",
          "name": "stderr",
          "text": [
            "/usr/local/lib/python3.7/dist-packages/ipykernel_launcher.py:10: DeprecationWarning: The binary mode of fromstring is deprecated, as it behaves surprisingly on unicode inputs. Use frombuffer instead\n",
            "  # Remove the CWD from sys.path while we load stuff.\n"
          ]
        },
        {
          "output_type": "stream",
          "name": "stdout",
          "text": [
            "> Czech\n",
            "> Greek\n",
            "> Russian\n"
          ]
        }
      ]
    },
    {
      "cell_type": "code",
      "source": [
        "predict_name(model_rnn, 'Biden') # English"
      ],
      "metadata": {
        "colab": {
          "base_uri": "https://localhost:8080/"
        },
        "id": "j_infk0N_UQ5",
        "outputId": "1d1423ae-a6bb-43a8-bd43-f4e6ae1832b8"
      },
      "execution_count": 49,
      "outputs": [
        {
          "output_type": "stream",
          "name": "stderr",
          "text": [
            "/usr/local/lib/python3.7/dist-packages/ipykernel_launcher.py:10: DeprecationWarning: The binary mode of fromstring is deprecated, as it behaves surprisingly on unicode inputs. Use frombuffer instead\n",
            "  # Remove the CWD from sys.path while we load stuff.\n"
          ]
        },
        {
          "output_type": "stream",
          "name": "stdout",
          "text": [
            "> German\n",
            "> Russian\n",
            "> English\n"
          ]
        }
      ]
    },
    {
      "cell_type": "code",
      "source": [
        "predict_name(model_rnn, 'Trump') # English"
      ],
      "metadata": {
        "colab": {
          "base_uri": "https://localhost:8080/"
        },
        "id": "h5Efm8Ad_biv",
        "outputId": "b42063c0-128c-4a8a-d039-0053999b17d7"
      },
      "execution_count": 51,
      "outputs": [
        {
          "output_type": "stream",
          "name": "stderr",
          "text": [
            "/usr/local/lib/python3.7/dist-packages/ipykernel_launcher.py:10: DeprecationWarning: The binary mode of fromstring is deprecated, as it behaves surprisingly on unicode inputs. Use frombuffer instead\n",
            "  # Remove the CWD from sys.path while we load stuff.\n"
          ]
        },
        {
          "output_type": "stream",
          "name": "stdout",
          "text": [
            "> German\n",
            "> Russian\n",
            "> English\n"
          ]
        }
      ]
    },
    {
      "cell_type": "code",
      "source": [
        "predict_name(model_rnn, 'Berest') # Russian"
      ],
      "metadata": {
        "colab": {
          "base_uri": "https://localhost:8080/"
        },
        "id": "1lhC4Hw0_hAG",
        "outputId": "645b621c-c9fd-4612-d57f-5e3526934164"
      },
      "execution_count": 52,
      "outputs": [
        {
          "output_type": "stream",
          "name": "stderr",
          "text": [
            "/usr/local/lib/python3.7/dist-packages/ipykernel_launcher.py:10: DeprecationWarning: The binary mode of fromstring is deprecated, as it behaves surprisingly on unicode inputs. Use frombuffer instead\n",
            "  # Remove the CWD from sys.path while we load stuff.\n"
          ]
        },
        {
          "output_type": "stream",
          "name": "stdout",
          "text": [
            "> Russian\n",
            "> German\n",
            "> English\n"
          ]
        }
      ]
    },
    {
      "cell_type": "code",
      "source": [
        "predict_name(model_rnn, 'Castellanos') # Spanish"
      ],
      "metadata": {
        "colab": {
          "base_uri": "https://localhost:8080/"
        },
        "id": "8_WV36oE_7qe",
        "outputId": "83fb36e2-8d14-432c-d347-fe4c2613283d"
      },
      "execution_count": 53,
      "outputs": [
        {
          "output_type": "stream",
          "name": "stderr",
          "text": [
            "/usr/local/lib/python3.7/dist-packages/ipykernel_launcher.py:10: DeprecationWarning: The binary mode of fromstring is deprecated, as it behaves surprisingly on unicode inputs. Use frombuffer instead\n",
            "  # Remove the CWD from sys.path while we load stuff.\n"
          ]
        },
        {
          "output_type": "stream",
          "name": "stdout",
          "text": [
            "> Spanish\n",
            "> Italian\n",
            "> English\n"
          ]
        }
      ]
    },
    {
      "cell_type": "code",
      "source": [
        "predict_name(model_rnn, 'Vale') # Spanish"
      ],
      "metadata": {
        "colab": {
          "base_uri": "https://localhost:8080/"
        },
        "id": "ZLkexhv9ABKk",
        "outputId": "caf873be-9a84-41be-e827-c9cd48cb6b69"
      },
      "execution_count": 54,
      "outputs": [
        {
          "output_type": "stream",
          "name": "stderr",
          "text": [
            "/usr/local/lib/python3.7/dist-packages/ipykernel_launcher.py:10: DeprecationWarning: The binary mode of fromstring is deprecated, as it behaves surprisingly on unicode inputs. Use frombuffer instead\n",
            "  # Remove the CWD from sys.path while we load stuff.\n"
          ]
        },
        {
          "output_type": "stream",
          "name": "stdout",
          "text": [
            "> English\n",
            "> Italian\n",
            "> Russian\n"
          ]
        }
      ]
    },
    {
      "cell_type": "markdown",
      "source": [
        "### Summary for RNN:\n",
        "The model performed not so bad, taking into account that is the pretty basic model, and only 50 epochs, on the validation dataset at gave us **~74%**, which is not so bad for imbalanced data with 19 classes. \n",
        "Taking a look into charts of loss and accuracy we see some fluctuations at the last ~10 epochs, this looks like overfitting, so due to the lack of time I am unable to test many configurations and find a better one, but probably couple new dense layers, with several dropouts and maybe one more recursive layer would beat 85-90%. We can also try to vary parameters further, like smaller learning rate should make it less fluctant. (for some reason this model loves Czech so much, but otherwise the top 3 results usually contain the closest correct answer\n",
        "\n",
        "### Result: **~74%**"
      ],
      "metadata": {
        "id": "cBtmKcFH9q2Z"
      }
    },
    {
      "cell_type": "markdown",
      "source": [
        "# CNN model"
      ],
      "metadata": {
        "id": "A2_Mt0tlwJu5"
      }
    },
    {
      "cell_type": "code",
      "source": [
        "def make_model_cnn(metrics=METRICS):\n",
        "    with strategy.scope():\n",
        "        model = tf.keras.Sequential([\n",
        "            tf.keras.layers.Input(shape=(MAX_WORD_LEN, n_letters)),\n",
        "            # tf.keras.layers.Embedding(n_letters, 64),\n",
        "            tf.keras.layers.Conv1D(filters=128, kernel_size=4, padding='same', activation='relu'),\n",
        "            tf.keras.layers.MaxPooling1D(pool_size=2),\n",
        "            tf.keras.layers.Conv1D(filters=64, kernel_size=4, padding='same', activation='relu'),\n",
        "            tf.keras.layers.MaxPooling1D(pool_size=2),\n",
        "            tf.keras.layers.Conv1D(filters=32, kernel_size=4, padding='same', activation='relu'),\n",
        "            tf.keras.layers.MaxPooling1D(pool_size=2),\n",
        "            tf.keras.layers.Flatten(),\n",
        "            tf.keras.layers.Dense(256, activation='relu'),\n",
        "            tf.keras.layers.Dropout(0.5),\n",
        "            tf.keras.layers.Dense(n_categories, activation='softmax')\n",
        "        ])\n",
        "        model.compile(loss=tf.keras.losses.SparseCategoricalCrossentropy(),\n",
        "                optimizer=tf.keras.optimizers.Adam(1e-4),\n",
        "                metrics=metrics)\n",
        "\n",
        "    return model"
      ],
      "metadata": {
        "id": "l8Sx3OL4wPEE"
      },
      "execution_count": 55,
      "outputs": []
    },
    {
      "cell_type": "code",
      "source": [
        "model_cnn = make_model_cnn()\n",
        "model_cnn.summary()"
      ],
      "metadata": {
        "colab": {
          "base_uri": "https://localhost:8080/"
        },
        "id": "c-QAe0P9wgXe",
        "outputId": "a1bd5ad6-acba-4858-d49e-06ed64f2e04e"
      },
      "execution_count": 56,
      "outputs": [
        {
          "output_type": "stream",
          "name": "stdout",
          "text": [
            "Model: \"sequential_1\"\n",
            "_________________________________________________________________\n",
            " Layer (type)                Output Shape              Param #   \n",
            "=================================================================\n",
            " conv1d (Conv1D)             (None, 100, 128)          29312     \n",
            "                                                                 \n",
            " max_pooling1d (MaxPooling1D  (None, 50, 128)          0         \n",
            " )                                                               \n",
            "                                                                 \n",
            " conv1d_1 (Conv1D)           (None, 50, 64)            32832     \n",
            "                                                                 \n",
            " max_pooling1d_1 (MaxPooling  (None, 25, 64)           0         \n",
            " 1D)                                                             \n",
            "                                                                 \n",
            " conv1d_2 (Conv1D)           (None, 25, 32)            8224      \n",
            "                                                                 \n",
            " max_pooling1d_2 (MaxPooling  (None, 12, 32)           0         \n",
            " 1D)                                                             \n",
            "                                                                 \n",
            " flatten (Flatten)           (None, 384)               0         \n",
            "                                                                 \n",
            " dense_2 (Dense)             (None, 256)               98560     \n",
            "                                                                 \n",
            " dropout_1 (Dropout)         (None, 256)               0         \n",
            "                                                                 \n",
            " dense_3 (Dense)             (None, 19)                4883      \n",
            "                                                                 \n",
            "=================================================================\n",
            "Total params: 173,811\n",
            "Trainable params: 173,811\n",
            "Non-trainable params: 0\n",
            "_________________________________________________________________\n"
          ]
        }
      ]
    },
    {
      "cell_type": "code",
      "source": [
        "history = model_cnn.fit(train_dataset, epochs=50,\n",
        "                    validation_data=validation_data,\n",
        "                    validation_steps=30)"
      ],
      "metadata": {
        "colab": {
          "base_uri": "https://localhost:8080/"
        },
        "id": "WISRL7ZfsTHi",
        "outputId": "92542153-b417-4d6d-bd00-fcf1f75fa746"
      },
      "execution_count": 57,
      "outputs": [
        {
          "output_type": "stream",
          "name": "stdout",
          "text": [
            "Epoch 1/50\n",
            "249/249 [==============================] - 12s 31ms/step - loss: 2.1530 - accuracy: 0.3673 - val_loss: 1.7723 - val_accuracy: 0.3818\n",
            "Epoch 2/50\n",
            "249/249 [==============================] - 6s 22ms/step - loss: 1.6905 - accuracy: 0.4608 - val_loss: 1.4948 - val_accuracy: 0.5198\n",
            "Epoch 3/50\n",
            "249/249 [==============================] - 6s 23ms/step - loss: 1.4419 - accuracy: 0.5626 - val_loss: 1.3212 - val_accuracy: 0.6021\n",
            "Epoch 4/50\n",
            "249/249 [==============================] - 6s 23ms/step - loss: 1.3158 - accuracy: 0.6138 - val_loss: 1.2195 - val_accuracy: 0.6531\n",
            "Epoch 5/50\n",
            "249/249 [==============================] - 7s 24ms/step - loss: 1.2133 - accuracy: 0.6558 - val_loss: 1.1136 - val_accuracy: 0.6823\n",
            "Epoch 6/50\n",
            "249/249 [==============================] - 6s 23ms/step - loss: 1.1251 - accuracy: 0.6862 - val_loss: 1.0359 - val_accuracy: 0.7026\n",
            "Epoch 7/50\n",
            "249/249 [==============================] - 6s 24ms/step - loss: 1.0582 - accuracy: 0.7050 - val_loss: 0.9734 - val_accuracy: 0.7229\n",
            "Epoch 8/50\n",
            "249/249 [==============================] - 6s 24ms/step - loss: 1.0010 - accuracy: 0.7229 - val_loss: 0.9258 - val_accuracy: 0.7359\n",
            "Epoch 9/50\n",
            "249/249 [==============================] - 6s 24ms/step - loss: 0.9526 - accuracy: 0.7368 - val_loss: 0.8805 - val_accuracy: 0.7458\n",
            "Epoch 10/50\n",
            "249/249 [==============================] - 6s 23ms/step - loss: 0.9040 - accuracy: 0.7476 - val_loss: 0.8430 - val_accuracy: 0.7604\n",
            "Epoch 11/50\n",
            "249/249 [==============================] - 6s 24ms/step - loss: 0.8637 - accuracy: 0.7604 - val_loss: 0.8133 - val_accuracy: 0.7646\n",
            "Epoch 12/50\n",
            "249/249 [==============================] - 6s 23ms/step - loss: 0.8348 - accuracy: 0.7651 - val_loss: 0.7898 - val_accuracy: 0.7724\n",
            "Epoch 13/50\n",
            "249/249 [==============================] - 6s 24ms/step - loss: 0.8055 - accuracy: 0.7749 - val_loss: 0.7693 - val_accuracy: 0.7750\n",
            "Epoch 14/50\n",
            "249/249 [==============================] - 6s 23ms/step - loss: 0.7769 - accuracy: 0.7813 - val_loss: 0.7540 - val_accuracy: 0.7781\n",
            "Epoch 15/50\n",
            "249/249 [==============================] - 6s 23ms/step - loss: 0.7563 - accuracy: 0.7852 - val_loss: 0.7422 - val_accuracy: 0.7823\n",
            "Epoch 16/50\n",
            "249/249 [==============================] - 6s 23ms/step - loss: 0.7371 - accuracy: 0.7913 - val_loss: 0.7234 - val_accuracy: 0.7870\n",
            "Epoch 17/50\n",
            "249/249 [==============================] - 6s 23ms/step - loss: 0.7142 - accuracy: 0.7955 - val_loss: 0.7177 - val_accuracy: 0.7885\n",
            "Epoch 18/50\n",
            "249/249 [==============================] - 6s 23ms/step - loss: 0.6988 - accuracy: 0.7992 - val_loss: 0.6990 - val_accuracy: 0.7891\n",
            "Epoch 19/50\n",
            "249/249 [==============================] - 6s 23ms/step - loss: 0.6773 - accuracy: 0.8046 - val_loss: 0.6905 - val_accuracy: 0.7901\n",
            "Epoch 20/50\n",
            "249/249 [==============================] - 6s 22ms/step - loss: 0.6635 - accuracy: 0.8060 - val_loss: 0.6846 - val_accuracy: 0.7943\n",
            "Epoch 21/50\n",
            "249/249 [==============================] - 7s 26ms/step - loss: 0.6487 - accuracy: 0.8117 - val_loss: 0.6727 - val_accuracy: 0.7958\n",
            "Epoch 22/50\n",
            "249/249 [==============================] - 6s 23ms/step - loss: 0.6366 - accuracy: 0.8163 - val_loss: 0.6681 - val_accuracy: 0.7969\n",
            "Epoch 23/50\n",
            "249/249 [==============================] - 6s 23ms/step - loss: 0.6198 - accuracy: 0.8185 - val_loss: 0.6639 - val_accuracy: 0.7984\n",
            "Epoch 24/50\n",
            "249/249 [==============================] - 7s 25ms/step - loss: 0.6073 - accuracy: 0.8217 - val_loss: 0.6559 - val_accuracy: 0.8047\n",
            "Epoch 25/50\n",
            "249/249 [==============================] - 7s 24ms/step - loss: 0.5978 - accuracy: 0.8254 - val_loss: 0.6652 - val_accuracy: 0.7990\n",
            "Epoch 26/50\n",
            "249/249 [==============================] - 7s 24ms/step - loss: 0.5874 - accuracy: 0.8269 - val_loss: 0.6527 - val_accuracy: 0.8057\n",
            "Epoch 27/50\n",
            "249/249 [==============================] - 6s 23ms/step - loss: 0.5751 - accuracy: 0.8304 - val_loss: 0.6480 - val_accuracy: 0.8042\n",
            "Epoch 28/50\n",
            "249/249 [==============================] - 6s 24ms/step - loss: 0.5658 - accuracy: 0.8305 - val_loss: 0.6418 - val_accuracy: 0.8036\n",
            "Epoch 29/50\n",
            "249/249 [==============================] - 6s 23ms/step - loss: 0.5551 - accuracy: 0.8335 - val_loss: 0.6417 - val_accuracy: 0.8068\n",
            "Epoch 30/50\n",
            "249/249 [==============================] - 6s 23ms/step - loss: 0.5487 - accuracy: 0.8367 - val_loss: 0.6371 - val_accuracy: 0.8063\n",
            "Epoch 31/50\n",
            "249/249 [==============================] - 6s 23ms/step - loss: 0.5332 - accuracy: 0.8416 - val_loss: 0.6339 - val_accuracy: 0.8057\n",
            "Epoch 32/50\n",
            "249/249 [==============================] - 6s 23ms/step - loss: 0.5272 - accuracy: 0.8436 - val_loss: 0.6442 - val_accuracy: 0.8068\n",
            "Epoch 33/50\n",
            "249/249 [==============================] - 6s 23ms/step - loss: 0.5200 - accuracy: 0.8438 - val_loss: 0.6447 - val_accuracy: 0.8042\n",
            "Epoch 34/50\n",
            "249/249 [==============================] - 6s 24ms/step - loss: 0.5098 - accuracy: 0.8454 - val_loss: 0.6394 - val_accuracy: 0.8068\n",
            "Epoch 35/50\n",
            "249/249 [==============================] - 6s 23ms/step - loss: 0.5068 - accuracy: 0.8469 - val_loss: 0.6318 - val_accuracy: 0.8063\n",
            "Epoch 36/50\n",
            "249/249 [==============================] - 6s 23ms/step - loss: 0.4934 - accuracy: 0.8543 - val_loss: 0.6307 - val_accuracy: 0.8068\n",
            "Epoch 37/50\n",
            "249/249 [==============================] - 7s 26ms/step - loss: 0.4863 - accuracy: 0.8538 - val_loss: 0.6300 - val_accuracy: 0.8104\n",
            "Epoch 38/50\n",
            "249/249 [==============================] - 6s 24ms/step - loss: 0.4776 - accuracy: 0.8569 - val_loss: 0.6247 - val_accuracy: 0.8089\n",
            "Epoch 39/50\n",
            "249/249 [==============================] - 6s 23ms/step - loss: 0.4726 - accuracy: 0.8588 - val_loss: 0.6323 - val_accuracy: 0.8104\n",
            "Epoch 40/50\n",
            "249/249 [==============================] - 6s 23ms/step - loss: 0.4638 - accuracy: 0.8608 - val_loss: 0.6345 - val_accuracy: 0.8089\n",
            "Epoch 41/50\n",
            "249/249 [==============================] - 6s 23ms/step - loss: 0.4603 - accuracy: 0.8613 - val_loss: 0.6322 - val_accuracy: 0.8073\n",
            "Epoch 42/50\n",
            "249/249 [==============================] - 6s 23ms/step - loss: 0.4508 - accuracy: 0.8650 - val_loss: 0.6329 - val_accuracy: 0.8104\n",
            "Epoch 43/50\n",
            "249/249 [==============================] - 6s 23ms/step - loss: 0.4425 - accuracy: 0.8668 - val_loss: 0.6418 - val_accuracy: 0.8042\n",
            "Epoch 44/50\n",
            "249/249 [==============================] - 6s 22ms/step - loss: 0.4356 - accuracy: 0.8693 - val_loss: 0.6371 - val_accuracy: 0.8052\n",
            "Epoch 45/50\n",
            "249/249 [==============================] - 6s 22ms/step - loss: 0.4355 - accuracy: 0.8678 - val_loss: 0.6543 - val_accuracy: 0.8057\n",
            "Epoch 46/50\n",
            "249/249 [==============================] - 6s 23ms/step - loss: 0.4260 - accuracy: 0.8693 - val_loss: 0.6381 - val_accuracy: 0.8068\n",
            "Epoch 47/50\n",
            "249/249 [==============================] - 6s 23ms/step - loss: 0.4176 - accuracy: 0.8760 - val_loss: 0.6345 - val_accuracy: 0.8109\n",
            "Epoch 48/50\n",
            "249/249 [==============================] - 6s 23ms/step - loss: 0.4100 - accuracy: 0.8764 - val_loss: 0.6389 - val_accuracy: 0.8083\n",
            "Epoch 49/50\n",
            "249/249 [==============================] - 6s 23ms/step - loss: 0.4074 - accuracy: 0.8774 - val_loss: 0.6358 - val_accuracy: 0.8130\n",
            "Epoch 50/50\n",
            "249/249 [==============================] - 6s 23ms/step - loss: 0.4031 - accuracy: 0.8783 - val_loss: 0.6416 - val_accuracy: 0.8125\n"
          ]
        }
      ]
    },
    {
      "cell_type": "code",
      "source": [
        "plt.figure(figsize=(14, 11))\n",
        "plot_graphs(history, 'accuracy')"
      ],
      "metadata": {
        "colab": {
          "base_uri": "https://localhost:8080/",
          "height": 677
        },
        "id": "ruOWtqKsxFz6",
        "outputId": "ab3c8263-6e65-40b3-cff8-5a4cfe9c0d4c"
      },
      "execution_count": 58,
      "outputs": [
        {
          "output_type": "display_data",
          "data": {
            "text/plain": [
              "<Figure size 1008x792 with 1 Axes>"
            ],
            "image/png": "[encoded data removed]"
          },
          "metadata": {}
        }
      ]
    },
    {
      "cell_type": "code",
      "source": [
        "plt.figure(figsize=(14, 11))\n",
        "plot_graphs(history, 'loss')"
      ],
      "metadata": {
        "colab": {
          "base_uri": "https://localhost:8080/",
          "height": 675
        },
        "id": "s07sGqUFxILp",
        "outputId": "781dba09-518d-4743-f62e-1da18f63a4b0"
      },
      "execution_count": 59,
      "outputs": [
        {
          "output_type": "display_data",
          "data": {
            "text/plain": [
              "<Figure size 1008x792 with 1 Axes>"
            ],
            "image/png": "[encoded data removed]"
          },
          "metadata": {}
        }
      ]
    },
    {
      "cell_type": "code",
      "source": [
        "res = model_cnn.evaluate(validation_data)\n",
        "\n",
        "print('Test Loss:', res[0])\n",
        "print('Test Accuracy:', res[1])"
      ],
      "metadata": {
        "colab": {
          "base_uri": "https://localhost:8080/"
        },
        "id": "4T00WlWTxK3W",
        "outputId": "be8e4e99-6e1a-41dc-a0ed-ebf8d19a9c4e"
      },
      "execution_count": 60,
      "outputs": [
        {
          "output_type": "stream",
          "name": "stdout",
          "text": [
            "125/125 [==============================] - 4s 18ms/step - loss: 0.6457 - accuracy: 0.8148\n",
            "Test Loss: 0.6456531882286072\n",
            "Test Accuracy: 0.8147500157356262\n"
          ]
        }
      ]
    },
    {
      "cell_type": "code",
      "source": [
        "predict_name(model_cnn, 'Tytarenko') # Ukrainian/Russian"
      ],
      "metadata": {
        "colab": {
          "base_uri": "https://localhost:8080/"
        },
        "id": "1azHAMSTxwKu",
        "outputId": "dcd3de4a-462e-4ca1-8cdb-6dafe9ed7d9d"
      },
      "execution_count": 61,
      "outputs": [
        {
          "output_type": "stream",
          "name": "stderr",
          "text": [
            "/usr/local/lib/python3.7/dist-packages/ipykernel_launcher.py:10: DeprecationWarning: The binary mode of fromstring is deprecated, as it behaves surprisingly on unicode inputs. Use frombuffer instead\n",
            "  # Remove the CWD from sys.path while we load stuff.\n"
          ]
        },
        {
          "output_type": "stream",
          "name": "stdout",
          "text": [
            "> Czech\n",
            "> Russian\n",
            "> Ukrainian\n"
          ]
        }
      ]
    },
    {
      "cell_type": "code",
      "source": [
        "predict_name(model_cnn, 'Kapusta', 12) # Russian"
      ],
      "metadata": {
        "colab": {
          "base_uri": "https://localhost:8080/"
        },
        "id": "WD-iM1eb1HtY",
        "outputId": "171e19b9-f9db-4c9f-fe05-48316a9624e6"
      },
      "execution_count": 62,
      "outputs": [
        {
          "output_type": "stream",
          "name": "stderr",
          "text": [
            "/usr/local/lib/python3.7/dist-packages/ipykernel_launcher.py:10: DeprecationWarning: The binary mode of fromstring is deprecated, as it behaves surprisingly on unicode inputs. Use frombuffer instead\n",
            "  # Remove the CWD from sys.path while we load stuff.\n"
          ]
        },
        {
          "output_type": "stream",
          "name": "stdout",
          "text": [
            "> German\n",
            "> Chinese\n",
            "> Dutch\n",
            "> Greek\n",
            "> Portuguese\n",
            "> Italian\n",
            "> Spanish\n",
            "> Russian\n",
            "> Ukrainian\n",
            "> Polish\n",
            "> Japanese\n",
            "> Czech\n"
          ]
        }
      ]
    },
    {
      "cell_type": "code",
      "source": [
        "predict_name(model_cnn, 'Usyk') # Ukrainian"
      ],
      "metadata": {
        "colab": {
          "base_uri": "https://localhost:8080/"
        },
        "id": "paXhDeGj2CPC",
        "outputId": "e1355e7f-9f5b-47ed-91b9-ad09b2dd36d7"
      },
      "execution_count": 63,
      "outputs": [
        {
          "output_type": "stream",
          "name": "stderr",
          "text": [
            "/usr/local/lib/python3.7/dist-packages/ipykernel_launcher.py:10: DeprecationWarning: The binary mode of fromstring is deprecated, as it behaves surprisingly on unicode inputs. Use frombuffer instead\n",
            "  # Remove the CWD from sys.path while we load stuff.\n"
          ]
        },
        {
          "output_type": "stream",
          "name": "stdout",
          "text": [
            "> Czech\n",
            "> Japanese\n",
            "> Russian\n"
          ]
        }
      ]
    },
    {
      "cell_type": "code",
      "source": [
        "predict_name(model_cnn, 'Pylypenko') # Russian/Ukrainian"
      ],
      "metadata": {
        "colab": {
          "base_uri": "https://localhost:8080/"
        },
        "id": "oxJSbeFM2rev",
        "outputId": "627d7a32-d666-40b3-e010-f3aa7ac5b7d8"
      },
      "execution_count": 64,
      "outputs": [
        {
          "output_type": "stream",
          "name": "stderr",
          "text": [
            "/usr/local/lib/python3.7/dist-packages/ipykernel_launcher.py:10: DeprecationWarning: The binary mode of fromstring is deprecated, as it behaves surprisingly on unicode inputs. Use frombuffer instead\n",
            "  # Remove the CWD from sys.path while we load stuff.\n"
          ]
        },
        {
          "output_type": "stream",
          "name": "stdout",
          "text": [
            "> Czech\n",
            "> Russian\n",
            "> Ukrainian\n"
          ]
        }
      ]
    },
    {
      "cell_type": "code",
      "source": [
        "predict_name(model_cnn, 'Huliev') # Asian"
      ],
      "metadata": {
        "colab": {
          "base_uri": "https://localhost:8080/"
        },
        "id": "OR7rBkjV3ro4",
        "outputId": "905cea0e-a696-4faa-e2d9-4c9060718336"
      },
      "execution_count": 65,
      "outputs": [
        {
          "output_type": "stream",
          "name": "stderr",
          "text": [
            "/usr/local/lib/python3.7/dist-packages/ipykernel_launcher.py:10: DeprecationWarning: The binary mode of fromstring is deprecated, as it behaves surprisingly on unicode inputs. Use frombuffer instead\n",
            "  # Remove the CWD from sys.path while we load stuff.\n"
          ]
        },
        {
          "output_type": "stream",
          "name": "stdout",
          "text": [
            "> German\n",
            "> Czech\n",
            "> Russian\n"
          ]
        }
      ]
    },
    {
      "cell_type": "code",
      "source": [
        "predict_name(model_cnn, 'Trump') # English"
      ],
      "metadata": {
        "colab": {
          "base_uri": "https://localhost:8080/"
        },
        "id": "YH0FGWTm3wzQ",
        "outputId": "70baa2b3-a1f9-4406-81c3-1b555a6f5f66"
      },
      "execution_count": 67,
      "outputs": [
        {
          "output_type": "stream",
          "name": "stderr",
          "text": [
            "/usr/local/lib/python3.7/dist-packages/ipykernel_launcher.py:10: DeprecationWarning: The binary mode of fromstring is deprecated, as it behaves surprisingly on unicode inputs. Use frombuffer instead\n",
            "  # Remove the CWD from sys.path while we load stuff.\n"
          ]
        },
        {
          "output_type": "stream",
          "name": "stdout",
          "text": [
            "> French\n",
            "> German\n",
            "> English\n"
          ]
        }
      ]
    },
    {
      "cell_type": "code",
      "source": [
        "predict_name(model_rnn, 'Biden') # English"
      ],
      "metadata": {
        "colab": {
          "base_uri": "https://localhost:8080/"
        },
        "id": "U1kHonz_CYly",
        "outputId": "09dd26f8-bc15-4b02-f280-e1a4483f0764"
      },
      "execution_count": 68,
      "outputs": [
        {
          "output_type": "stream",
          "name": "stderr",
          "text": [
            "/usr/local/lib/python3.7/dist-packages/ipykernel_launcher.py:10: DeprecationWarning: The binary mode of fromstring is deprecated, as it behaves surprisingly on unicode inputs. Use frombuffer instead\n",
            "  # Remove the CWD from sys.path while we load stuff.\n"
          ]
        },
        {
          "output_type": "stream",
          "name": "stdout",
          "text": [
            "> German\n",
            "> Russian\n",
            "> English\n"
          ]
        }
      ]
    },
    {
      "cell_type": "code",
      "source": [
        "predict_name(model_rnn, 'Castellanos') # Spanish"
      ],
      "metadata": {
        "colab": {
          "base_uri": "https://localhost:8080/"
        },
        "id": "keFoP7mhCbK8",
        "outputId": "9a48b2df-4763-4a84-8a92-f2ce3f585a44"
      },
      "execution_count": 69,
      "outputs": [
        {
          "output_type": "stream",
          "name": "stderr",
          "text": [
            "/usr/local/lib/python3.7/dist-packages/ipykernel_launcher.py:10: DeprecationWarning: The binary mode of fromstring is deprecated, as it behaves surprisingly on unicode inputs. Use frombuffer instead\n",
            "  # Remove the CWD from sys.path while we load stuff.\n"
          ]
        },
        {
          "output_type": "stream",
          "name": "stdout",
          "text": [
            "> Spanish\n",
            "> Italian\n",
            "> English\n"
          ]
        }
      ]
    },
    {
      "cell_type": "code",
      "source": [
        "predict_name(model_rnn, 'Vale') # English"
      ],
      "metadata": {
        "colab": {
          "base_uri": "https://localhost:8080/"
        },
        "id": "YlsAJp0ICdOY",
        "outputId": "986a0269-2c3e-400f-a80d-1e6c511185c6"
      },
      "execution_count": 70,
      "outputs": [
        {
          "output_type": "stream",
          "name": "stderr",
          "text": [
            "/usr/local/lib/python3.7/dist-packages/ipykernel_launcher.py:10: DeprecationWarning: The binary mode of fromstring is deprecated, as it behaves surprisingly on unicode inputs. Use frombuffer instead\n",
            "  # Remove the CWD from sys.path while we load stuff.\n"
          ]
        },
        {
          "output_type": "stream",
          "name": "stdout",
          "text": [
            "> English\n",
            "> Italian\n",
            "> Russian\n"
          ]
        }
      ]
    },
    {
      "cell_type": "markdown",
      "source": [
        "### Summary for CNN:\n",
        "The model performed even better than the previous one, again, this is just a basic model, and only 50 epochs, on the validation dataset it gave us **~81,5%**, which is not so bad for imbalanced data with 19 classes. \n",
        "Taking a look into charts of loss and accuracy we see some fluctuations at the last ~10 epochs (exactly the same as for RNN), so that is probably overfitting. This model is deeper (and has more parameters than the first one), and this might be the cause for better performance, yet still more testing is required. We can also try to vary parameters further, like smaller learning rate should make it less fluctant. Overal beating 90% on this model is more than possible from the first glance, just more elaborate work on parameters and the architecture required, which is not done due to the lack of time.\n",
        "\n",
        "### Result: **~81.5%**"
      ],
      "metadata": {
        "id": "ZckbH1USCju1"
      }
    },
    {
      "cell_type": "code",
      "source": [],
      "metadata": {
        "id": "5ZBxRZaICeOL"
      },
      "execution_count": null,
      "outputs": []
    }
  ]
}